{
 "cells": [
  {
   "cell_type": "markdown",
   "id": "29c5fd71",
   "metadata": {},
   "source": [
    "# Formatted Zone (Text)\n",
    "\n",
    "This notebook contains the scripts needed for the extraction of text from the persistent landing zone, its processing and storage to the formatted zone. The formatted zone is represented by another bucket and aims to replicate the same folder structure as the persistent landing zone. The difference is that the data format in the formatted zone has been homogenized, as one of the steps of our data pipeline. \n",
    "\n",
    "This notebook focuses only on text data (the equivalent notebooks for the other types of data can be found in the same folder). Particularly, the following scripts are responsible of the following tasks:\n",
    "1. Extraction of texts from persistent landing zone.\n",
    "2. Homogenization of data. In this case, that will consist on ensuring that all texts are converted to .txt files.\n",
    "3. Formatted data storage into the formatted zone.\n",
    "\n",
    "First, we will connect to MinIO and prepare the new bucket:"
   ]
  },
  {
   "cell_type": "code",
   "execution_count": 1,
   "id": "08975d3d",
   "metadata": {},
   "outputs": [
    {
     "name": "stdout",
     "output_type": "stream",
     "text": [
      "Bucket 'formatted-zone' already exists\n"
     ]
    }
   ],
   "source": [
    "import boto3\n",
    "import os\n",
    "from dotenv import load_dotenv\n",
    "\n",
    "load_dotenv()\n",
    "access_key_id = os.getenv(\"ACCESS_KEY_ID\")\n",
    "secret_access_key = os.getenv(\"SECRET_ACCESS_KEY\")\n",
    "minio_url = \"http://\" + os.getenv(\"S3_API_ENDPOINT\")\n",
    "\n",
    "\n",
    "minio_client = boto3.client(\n",
    "    \"s3\",\n",
    "    aws_access_key_id=access_key_id,\n",
    "    aws_secret_access_key=secret_access_key,\n",
    "    endpoint_url=minio_url\n",
    ")\n",
    "\n",
    "new_bucket = \"formatted-zone\"\n",
    "try:\n",
    "    minio_client.create_bucket(Bucket=new_bucket)\n",
    "except (minio_client.exceptions.BucketAlreadyExists, minio_client.exceptions.BucketAlreadyOwnedByYou):\n",
    "    print(f\"Bucket '{new_bucket}' already exists\")"
   ]
  },
  {
   "cell_type": "markdown",
   "id": "365061d5",
   "metadata": {},
   "source": [
    "Now, for each text in the persistent landing zone the following script will donwload it, convert it to txt format and store it in the formatted zone. Notice that the old versions are kept in the persistent landing zone so the raw data is still available if it is needed."
   ]
  },
  {
   "cell_type": "code",
   "execution_count": 2,
   "id": "3da3f2ff",
   "metadata": {},
   "outputs": [],
   "source": [
    "import botocore.exceptions\n",
    "import io\n",
    "\n",
    "bucket_origin = \"persistent-landing\"\n",
    "bucket_destination = \"formatted-zone\"\n",
    "path_prefix = \"text/\"\n",
    "\n",
    "paginator = minio_client.get_paginator(\"list_objects_v2\") # We use paginators because the list_objects method response is limitted to a maximum of 1,000 objects \n",
    "\n",
    "for page in paginator.paginate(Bucket=bucket_origin, Prefix=path_prefix):\n",
    "    for obj in page[\"Contents\"]:\n",
    "        key = obj[\"Key\"]\n",
    "        split_filename = os.path.splitext(key.split(\"/\")[1])\n",
    "        filename = split_filename[0]\n",
    "        format = split_filename[1].lower()\n",
    "        \n",
    "        try:\n",
    "            response = minio_client.get_object(Bucket=bucket_origin, Key=key)\n",
    "\n",
    "            # Text conversion to .txt. Here, the only transformation is the extension \n",
    "            text_data = response[\"Body\"].read()\n",
    "            buffer = io.BytesIO(text_data)\n",
    "\n",
    "            # Upload text to formatted zone\n",
    "            new_key = path_prefix + filename + \".txt\"\n",
    "            minio_client.upload_fileobj(Fileobj=buffer, Bucket=bucket_destination, Key=new_key)\n",
    "            minio_client.head_object(Bucket=bucket_destination, Key=new_key) # Checks if the file was uploaded successfully and throws an exception otherwise.\n",
    "        except botocore.exceptions.ClientError as e:\n",
    "            print(f\"[ERROR]: An error occurred while moving {filename} between zones: {e}\")\n",
    "        except Exception as e:\n",
    "            print(f\"[ERROR]: An error occurred while manipulating {filename}: {e}\")"
   ]
  },
  {
   "cell_type": "markdown",
   "id": "979594be",
   "metadata": {},
   "source": [
    "After this, all texts should have been successfully uploaded to the formatted zone."
   ]
  }
 ],
 "metadata": {
  "kernelspec": {
   "display_name": "Python 3",
   "language": "python",
   "name": "python3"
  },
  "language_info": {
   "codemirror_mode": {
    "name": "ipython",
    "version": 3
   },
   "file_extension": ".py",
   "mimetype": "text/x-python",
   "name": "python",
   "nbconvert_exporter": "python",
   "pygments_lexer": "ipython3",
   "version": "3.10.3"
  }
 },
 "nbformat": 4,
 "nbformat_minor": 5
}
