{
 "cells": [
  {
   "cell_type": "markdown",
   "id": "9adf352d",
   "metadata": {},
   "source": [
    "# Obtaining the data from datasources\n",
    "\n",
    "This project focuses on the design and execution of a data processing pipeline that transforms raw data from multiple sources into a structued format suitable for machine learning applications.\n",
    "\n",
    "In a real scenario, such data sources would come from different repositories or systems, for example, different databases or APIs, each containing only a subset of the required information. However, these idealized and openly accessible data sources do not always exist in practice, especially when the project involves combining multiple types of information. To overcome this limitation and for academic purposes, we have created our own data sources by extracting, restructuring, and combining data from existing public datasets.\n",
    "\n",
    "This notebook therefore begins by introducing the different simulated data sources we created, explaining their purpose and structure. After that, in the [temporal landing zone](./temporal_zone.ipynb) we demonstrate how the pipeline ingests theses sources, and futher applies transformations to produce a final dataset ready for use in ML models.\n",
    "\n",
    "The different datasources we used or created are the following:\n",
    "1. [huggingface dataset](https://huggingface.co/datasets/Moaaz55/skin_cancer_questions_answers). This dataset is used for ...\n",
    "2. Self made audio dataset. This dataset is used for ...\n",
    "3. Wikipedia web scrapping information. This dataset is used for...\n",
    "\n",
    "In the next sections, we will discuss how the data is obtained to further insert them into the first zone of the pipeline."
   ]
  },
  {
   "cell_type": "code",
   "execution_count": 9,
   "id": "da091db5",
   "metadata": {},
   "outputs": [],
   "source": [
    "import os\n",
    "from os import mkdir\n",
    "# Get the path to the folder named ADSDB\n",
    "BASE_DIR = os.getcwd().split(\"ADSDB\")[0] + \"ADSDB/\"\n",
    "OUTPUT_DIR = os.path.join(BASE_DIR, \"output/\")\n",
    "datasets = 3\n",
    "\n",
    "try:\n",
    "    mkdir(OUTPUT_DIR)\n",
    "except FileExistsError:\n",
    "    pass\n",
    "\n",
    "for i in range(1, datasets + 1):\n",
    "    try:    \n",
    "        mkdir(OUTPUT_DIR + f\"dataset{i}/\")\n",
    "    except FileExistsError:\n",
    "        pass\n",
    "\n"
   ]
  },
  {
   "cell_type": "markdown",
   "id": "4a733d14",
   "metadata": {},
   "source": [
    "## HAM10000\n",
    "\n",
    "The primary image dataset for our project is the **HAM10000** (Human Against Machine with 10,000 Training images) dataset, which we acquired directly from the **Hugging Face Hub**. This is a large, publicly available collection of dermatoscopic images specifically for the dermatological research. It contains thousands of images representing common pigmented skin lesions, including various types of moles and skin cancers. Each image is associated with a specific diagnostic category, making it a very good resource for tasks related to image classification of skin conditions.\n",
    "\n"
   ]
  },
  {
   "cell_type": "code",
   "execution_count": 2,
   "id": "c1191422",
   "metadata": {},
   "outputs": [
    {
     "data": {
      "application/vnd.jupyter.widget-view+json": {
       "model_id": "112bd510ebcd4da1beef4f77c4a313a3",
       "version_major": 2,
       "version_minor": 0
      },
      "text/plain": [
       "README.md: 0.00B [00:00, ?B/s]"
      ]
     },
     "metadata": {},
     "output_type": "display_data"
    },
    {
     "data": {
      "application/vnd.jupyter.widget-view+json": {
       "model_id": "c17979812ecd471790a2a4cae9ec7daf",
       "version_major": 2,
       "version_minor": 0
      },
      "text/plain": [
       "data/train-00000-of-00007.parquet:   0%|          | 0.00/429M [00:00<?, ?B/s]"
      ]
     },
     "metadata": {},
     "output_type": "display_data"
    },
    {
     "data": {
      "application/vnd.jupyter.widget-view+json": {
       "model_id": "b448c3d023ba43ff8d3a2cf15f5fb079",
       "version_major": 2,
       "version_minor": 0
      },
      "text/plain": [
       "data/train-00001-of-00007.parquet:   0%|          | 0.00/427M [00:00<?, ?B/s]"
      ]
     },
     "metadata": {},
     "output_type": "display_data"
    },
    {
     "data": {
      "application/vnd.jupyter.widget-view+json": {
       "model_id": "806970f8903a42f296670f2b7bdd3dca",
       "version_major": 2,
       "version_minor": 0
      },
      "text/plain": [
       "data/train-00002-of-00007.parquet:   0%|          | 0.00/430M [00:00<?, ?B/s]"
      ]
     },
     "metadata": {},
     "output_type": "display_data"
    },
    {
     "data": {
      "application/vnd.jupyter.widget-view+json": {
       "model_id": "5af54810aed54712a8d4c37eb8b565a9",
       "version_major": 2,
       "version_minor": 0
      },
      "text/plain": [
       "data/train-00003-of-00007.parquet:   0%|          | 0.00/433M [00:00<?, ?B/s]"
      ]
     },
     "metadata": {},
     "output_type": "display_data"
    },
    {
     "data": {
      "application/vnd.jupyter.widget-view+json": {
       "model_id": "e1613c9e51d8447192086bcfff37dadf",
       "version_major": 2,
       "version_minor": 0
      },
      "text/plain": [
       "data/train-00004-of-00007.parquet:   0%|          | 0.00/429M [00:00<?, ?B/s]"
      ]
     },
     "metadata": {},
     "output_type": "display_data"
    },
    {
     "data": {
      "application/vnd.jupyter.widget-view+json": {
       "model_id": "1e20e88d41ae4267bbc38666707b3a4f",
       "version_major": 2,
       "version_minor": 0
      },
      "text/plain": [
       "data/train-00005-of-00007.parquet:   0%|          | 0.00/429M [00:00<?, ?B/s]"
      ]
     },
     "metadata": {},
     "output_type": "display_data"
    },
    {
     "data": {
      "application/vnd.jupyter.widget-view+json": {
       "model_id": "0f4f58d98c764c4487dece351ce6fde8",
       "version_major": 2,
       "version_minor": 0
      },
      "text/plain": [
       "data/train-00006-of-00007.parquet:   0%|          | 0.00/429M [00:00<?, ?B/s]"
      ]
     },
     "metadata": {},
     "output_type": "display_data"
    },
    {
     "data": {
      "application/vnd.jupyter.widget-view+json": {
       "model_id": "8083a621661145398f299e2e931ac3d7",
       "version_major": 2,
       "version_minor": 0
      },
      "text/plain": [
       "data/test-00000-of-00002.parquet:   0%|          | 0.00/374M [00:00<?, ?B/s]"
      ]
     },
     "metadata": {},
     "output_type": "display_data"
    },
    {
     "data": {
      "application/vnd.jupyter.widget-view+json": {
       "model_id": "759a7ffaf06241ababd1219c36cc354c",
       "version_major": 2,
       "version_minor": 0
      },
      "text/plain": [
       "data/test-00001-of-00002.parquet:   0%|          | 0.00/375M [00:00<?, ?B/s]"
      ]
     },
     "metadata": {},
     "output_type": "display_data"
    },
    {
     "data": {
      "application/vnd.jupyter.widget-view+json": {
       "model_id": "ddb0f064ac1d4ac1bbd4f214764939b1",
       "version_major": 2,
       "version_minor": 0
      },
      "text/plain": [
       "Generating train split:   0%|          | 0/8012 [00:00<?, ? examples/s]"
      ]
     },
     "metadata": {},
     "output_type": "display_data"
    },
    {
     "data": {
      "application/vnd.jupyter.widget-view+json": {
       "model_id": "59d0572a3ef2433994f2305fcc200901",
       "version_major": 2,
       "version_minor": 0
      },
      "text/plain": [
       "Generating test split:   0%|          | 0/2003 [00:00<?, ? examples/s]"
      ]
     },
     "metadata": {},
     "output_type": "display_data"
    }
   ],
   "source": [
    "import os\n",
    "from datasets import load_dataset\n",
    "from PIL import Image\n",
    "\n",
    "ds = load_dataset(\"abaryan/ham10000_bbox\")\n",
    "data = ds['train']\n",
    "sample_data = data.shuffle(seed=42).select(range(100))\n",
    "\n",
    "for item in sample_data:\n",
    "    image: Image.Image = item['image']\n",
    "    image_id: str = item['image_id']\n",
    "    filename = f\"{image_id}.jpg\"\n",
    "    save_path = os.path.join(OUTPUT_DIR+\"/dataset1\", filename)\n",
    "    image.save(save_path)"
   ]
  },
  {
   "cell_type": "markdown",
   "id": "914a55dc",
   "metadata": {},
   "source": [
    "## Wikipedia web scrapping\n",
    "\n",
    "For the textual resource, we generated a corpus by performing **web scrapping** of Wikipedia. We targeted a specific set of articles centered on the topic of skin cancer, including pages detailing its various forms, risk factors, prevention methods... This process involved extracting the full text from these pages. We achieved this by obtaining the HTML and then, we saw that the data is contained in all the <p> HTML tags. Therefore, we iterated each of this components and we extracted all the rellevant information and saved into a file to introduce the dataset into the pipeline in the next process. The result is a cusotm-made text dataset centered on skin cancer information, designed for different type of data science applications."
   ]
  },
  {
   "cell_type": "code",
   "execution_count": 4,
   "id": "d0c2a8c8",
   "metadata": {},
   "outputs": [
    {
     "ename": "FileNotFoundError",
     "evalue": "[Errno 2] No such file or directory: '/home/jowy/ADSDB/output/dataset2/skin_cancer.txt'",
     "output_type": "error",
     "traceback": [
      "\u001b[31m---------------------------------------------------------------------------\u001b[39m",
      "\u001b[31mFileNotFoundError\u001b[39m                         Traceback (most recent call last)",
      "\u001b[36mCell\u001b[39m\u001b[36m \u001b[39m\u001b[32mIn[4]\u001b[39m\u001b[32m, line 28\u001b[39m\n\u001b[32m     25\u001b[39m         fd.write(data)\n\u001b[32m     26\u001b[39m         fd.close()\n\u001b[32m---> \u001b[39m\u001b[32m28\u001b[39m \u001b[43mwikipedia_scrapper\u001b[49m\u001b[43m(\u001b[49m\u001b[43mtopics\u001b[49m\u001b[43m)\u001b[49m\n",
      "\u001b[36mCell\u001b[39m\u001b[36m \u001b[39m\u001b[32mIn[4]\u001b[39m\u001b[32m, line 24\u001b[39m, in \u001b[36mwikipedia_scrapper\u001b[39m\u001b[34m(topics)\u001b[39m\n\u001b[32m     20\u001b[39m \u001b[38;5;28;01mfor\u001b[39;00m j \u001b[38;5;129;01min\u001b[39;00m \u001b[38;5;28mrange\u001b[39m(\u001b[32m1\u001b[39m, \u001b[32m750\u001b[39m):\n\u001b[32m     21\u001b[39m     data = data.replace(\u001b[33m'\u001b[39m\u001b[33m[\u001b[39m\u001b[33m'\u001b[39m + \u001b[38;5;28mstr\u001b[39m(j) + \u001b[33m'\u001b[39m\u001b[33m]\u001b[39m\u001b[33m'\u001b[39m, \u001b[33m'\u001b[39m\u001b[33m'\u001b[39m)\n\u001b[32m---> \u001b[39m\u001b[32m24\u001b[39m fd = \u001b[38;5;28;43mopen\u001b[39;49m\u001b[43m(\u001b[49m\u001b[43mOUTPUT_DIR\u001b[49m\u001b[43m \u001b[49m\u001b[43m+\u001b[49m\u001b[43m \u001b[49m\u001b[33;43m\"\u001b[39;49m\u001b[33;43mdataset2/\u001b[39;49m\u001b[33;43m\"\u001b[39;49m\u001b[43m \u001b[49m\u001b[43m+\u001b[49m\u001b[43m \u001b[49m\u001b[43mtopic\u001b[49m\u001b[43m \u001b[49m\u001b[43m+\u001b[49m\u001b[43m \u001b[49m\u001b[33;43m'\u001b[39;49m\u001b[33;43m.txt\u001b[39;49m\u001b[33;43m'\u001b[39;49m\u001b[43m,\u001b[49m\u001b[43m \u001b[49m\u001b[33;43m'\u001b[39;49m\u001b[33;43mw\u001b[39;49m\u001b[33;43m'\u001b[39;49m\u001b[43m)\u001b[49m\n\u001b[32m     25\u001b[39m fd.write(data)\n\u001b[32m     26\u001b[39m fd.close()\n",
      "\u001b[36mFile \u001b[39m\u001b[32m~/ADSDB/.venv/lib/python3.12/site-packages/IPython/core/interactiveshell.py:343\u001b[39m, in \u001b[36m_modified_open\u001b[39m\u001b[34m(file, *args, **kwargs)\u001b[39m\n\u001b[32m    336\u001b[39m \u001b[38;5;28;01mif\u001b[39;00m file \u001b[38;5;129;01min\u001b[39;00m {\u001b[32m0\u001b[39m, \u001b[32m1\u001b[39m, \u001b[32m2\u001b[39m}:\n\u001b[32m    337\u001b[39m     \u001b[38;5;28;01mraise\u001b[39;00m \u001b[38;5;167;01mValueError\u001b[39;00m(\n\u001b[32m    338\u001b[39m         \u001b[33mf\u001b[39m\u001b[33m\"\u001b[39m\u001b[33mIPython won\u001b[39m\u001b[33m'\u001b[39m\u001b[33mt let you open fd=\u001b[39m\u001b[38;5;132;01m{\u001b[39;00mfile\u001b[38;5;132;01m}\u001b[39;00m\u001b[33m by default \u001b[39m\u001b[33m\"\u001b[39m\n\u001b[32m    339\u001b[39m         \u001b[33m\"\u001b[39m\u001b[33mas it is likely to crash IPython. If you know what you are doing, \u001b[39m\u001b[33m\"\u001b[39m\n\u001b[32m    340\u001b[39m         \u001b[33m\"\u001b[39m\u001b[33myou can use builtins\u001b[39m\u001b[33m'\u001b[39m\u001b[33m open.\u001b[39m\u001b[33m\"\u001b[39m\n\u001b[32m    341\u001b[39m     )\n\u001b[32m--> \u001b[39m\u001b[32m343\u001b[39m \u001b[38;5;28;01mreturn\u001b[39;00m \u001b[43mio_open\u001b[49m\u001b[43m(\u001b[49m\u001b[43mfile\u001b[49m\u001b[43m,\u001b[49m\u001b[43m \u001b[49m\u001b[43m*\u001b[49m\u001b[43margs\u001b[49m\u001b[43m,\u001b[49m\u001b[43m \u001b[49m\u001b[43m*\u001b[49m\u001b[43m*\u001b[49m\u001b[43mkwargs\u001b[49m\u001b[43m)\u001b[49m\n",
      "\u001b[31mFileNotFoundError\u001b[39m: [Errno 2] No such file or directory: '/home/jowy/ADSDB/output/dataset2/skin_cancer.txt'"
     ]
    }
   ],
   "source": [
    "import requests\n",
    "from bs4 import BeautifulSoup\n",
    "\n",
    "topics = [\"skin_cancer\", \"melanoma\", \"basal_cell_carcinoma\", \"squamous_cell_carcinoma\", \"actinic_keratosis\"]\n",
    "\n",
    "def wikipedia_scrapper(topics):\n",
    "    for topic in topics:\n",
    "        url = 'https://en.wikipedia.org/wiki/' + topic\n",
    "        user_agent = \"Mozilla/5.0 (Windows NT 10.0; Win64; x64) AppleWebKit/537.36 (KHTML, like Gecko) Chrome/58.0.3029.110 Safari/537.3\"\n",
    "        res = requests.get(url, headers={'User-Agent': user_agent})\n",
    "        soup = BeautifulSoup(res.text, 'html.parser')\n",
    "\n",
    "        data = ''\n",
    "        for p in soup.find_all('p'):\n",
    "            data += p.get_text()\n",
    "            data += '\\n'\n",
    "        \n",
    "        data = data.strip()\n",
    "\n",
    "        for j in range(1, 750):\n",
    "            data = data.replace('[' + str(j) + ']', '')\n",
    "\n",
    "\n",
    "        fd = open(OUTPUT_DIR + \"dataset2/\" + topic + '.txt', 'w')\n",
    "        fd.write(data)\n",
    "        fd.close()\n",
    "\n",
    "wikipedia_scrapper(topics)"
   ]
  },
  {
   "cell_type": "markdown",
   "id": "66ed3300",
   "metadata": {},
   "source": [
    "## Self made audio dataset\n",
    "\n",
    "For our third datset, we created a set of spoken answers. We started by getting a datset of skin cancer Q&A in text format from the **Hugging Face Hub**. Our goal was to turn the written answers into audio files. To do this, we used a Text-to-Speech (TTS) tool called Piper. We fed a sample of 100 text answers from the dataset into Piper, and it generated a spoken audio clip for each one. The final result is a collection of .wav files containing all the answers."
   ]
  },
  {
   "cell_type": "code",
   "execution_count": 4,
   "id": "a6e45004",
   "metadata": {},
   "outputs": [],
   "source": [
    "import pandas as pd\n",
    "\n",
    "df = pd.read_json(\"hf://datasets/Moaaz55/skin_cancer_questions_answers/dataset.json\", lines=True)\n",
    "\n",
    "df = df.sample(n=100, random_state=42)\n",
    "df = df.apply(lambda row: f\"A: {row['Answer']}\\n\", axis=1)"
   ]
  },
  {
   "cell_type": "markdown",
   "id": "e7c9e61e",
   "metadata": {},
   "source": [
    "## Model instal·lation\n",
    "\n",
    "To install the model, you must execute this command:\n",
    "```sh\n",
    "python3 -m piper.download_voices en_US-lessac-medium\n",
    "```\n"
   ]
  },
  {
   "cell_type": "code",
   "execution_count": 5,
   "id": "7c013d07",
   "metadata": {},
   "outputs": [],
   "source": [
    "import wave\n",
    "from piper import PiperVoice\n",
    "import os\n",
    "\n",
    "voice = PiperVoice.load(os.path.join(BASE_DIR, \"en_US-lessac-medium.onnx\"))\n",
    "\n",
    "for i, text in enumerate(df):\n",
    "    text = text.replace(\"A: \", \"\").strip()\n",
    "    with wave.open(os.path.join(OUTPUT_DIR, f\"dataset3/answer_{i}.wav\"), \"wb\") as wav_file:\n",
    "        voice.synthesize_wav(text, wav_file)"
   ]
  }
 ],
 "metadata": {
  "kernelspec": {
   "display_name": ".venv",
   "language": "python",
   "name": "python3"
  },
  "language_info": {
   "codemirror_mode": {
    "name": "ipython",
    "version": 3
   },
   "file_extension": ".py",
   "mimetype": "text/x-python",
   "name": "python",
   "nbconvert_exporter": "python",
   "pygments_lexer": "ipython3",
   "version": "3.12.3"
  }
 },
 "nbformat": 4,
 "nbformat_minor": 5
}
