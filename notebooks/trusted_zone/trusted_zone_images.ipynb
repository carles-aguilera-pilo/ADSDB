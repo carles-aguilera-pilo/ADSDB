{
 "cells": [
  {
   "cell_type": "markdown",
   "id": "3f3b3f2d",
   "metadata": {},
   "source": [
    "# TRUSTED ZONE (IMAGES)\n",
    "This notebook contains the scripts needed for the extraction of images from the formatted zone, its processing and cleaning of the data and storage to the trusted Zone. The trusted zone is represented by another bucket and aims to replicate the same folder structure as the formatted zone. The difference is that the data has been processed and transform in order to clean and ensure a clean images.\n",
    "\n",
    "This notebook focuses only on images (the equivalent notebooks for the other types of data can be found in the same folder). Particularly, the following scripts are responsible of the following tasks:\n",
    "\n",
    "Extraction of images from formatted zone. Treatment and processing of the data, to ensure data quality.\n",
    "\n",
    "First, we will connect to MinIO and prepare the new bucket:"
   ]
  },
  {
   "cell_type": "code",
   "execution_count": 7,
   "id": "08975d3d",
   "metadata": {},
   "outputs": [
    {
     "name": "stdout",
     "output_type": "stream",
     "text": [
      "Bucket 'trusted-zone' already exists\n"
     ]
    }
   ],
   "source": [
    "import boto3\n",
    "import os\n",
    "from dotenv import load_dotenv\n",
    "\n",
    "load_dotenv()\n",
    "access_key_id = os.getenv(\"ACCESS_KEY_ID\")\n",
    "secret_access_key = os.getenv(\"SECRET_ACCESS_KEY\")\n",
    "minio_url = \"http://\" + os.getenv(\"S3_API_ENDPOINT\")\n",
    "\n",
    "\n",
    "minio_client = boto3.client(\n",
    "    \"s3\",\n",
    "    aws_access_key_id=access_key_id,\n",
    "    aws_secret_access_key=secret_access_key,\n",
    "    endpoint_url=minio_url\n",
    ")\n",
    "\n",
    "new_bucket = \"trusted-zone\"\n",
    "try:\n",
    "    minio_client.create_bucket(Bucket=new_bucket)\n",
    "except (minio_client.exceptions.BucketAlreadyExists, minio_client.exceptions.BucketAlreadyOwnedByYou):\n",
    "    print(f\"Bucket '{new_bucket}' already exists\")"
   ]
  },
  {
   "cell_type": "markdown",
   "id": "0b6847bb",
   "metadata": {},
   "source": [
    "This script is responsible for extracting images from the Formatted Zone, processing and cleaning them to ensure their quality, and finally storing them in the Trusted Zone. The process begins by reading all image files from the formatted-zone bucket and then applying various treatments to improve their visual quality.\n",
    "\n",
    "First, it resizes all images to a consistent size of 600 by 450 pixels to ensure uniformity and optimize storage. Then, it converts all images to the RGB format to guarantee color compatibility and consistency.\n",
    "\n",
    "Next, it applies color normalization to enhance visual appearance: it increases brightness by 10% to make the images lighter, improves contrast by 15% to make details more defined, and increases saturation by 5% to make colors more vivid and appealing.\n",
    "\n",
    "The process also includes cleaning and quality enhancement treatments: it applies a slight smoothing using a Gaussian filter with a radius of 0.3 pixels to reduce digital noise, and then compensates for this smoothing by applying a sharpening filter to restore detail definition and maintain image clarity."
   ]
  },
  {
   "cell_type": "code",
   "execution_count": 8,
   "id": "3da3f2ff",
   "metadata": {},
   "outputs": [
    {
     "name": "stderr",
     "output_type": "stream",
     "text": [
      "Processant imatges: 100%|██████████| 200/200 [00:18<00:00, 10.97it/s]\n"
     ]
    }
   ],
   "source": [
    "from PIL import Image, ImageEnhance, ImageFilter\n",
    "import io\n",
    "from tqdm import tqdm\n",
    "\n",
    "bucket_origen = \"formatted-zone\"\n",
    "bucket_desti = \"trusted-zone\"\n",
    "prefix_origen = \"images/\"\n",
    "mida_final = (600, 450)\n",
    "\n",
    "paginator = minio_client.get_paginator(\"list_objects_v2\")\n",
    "\n",
    "for page in paginator.paginate(Bucket=bucket_origen, Prefix=prefix_origen):\n",
    "    for obj in tqdm(page.get(\"Contents\", []), desc=\"Processant imatges\"):\n",
    "        key = obj[\"Key\"]\n",
    "        filename = key.split(\"/\")[-1]\n",
    "\n",
    "        #Llegir la imatge des del bucket\n",
    "        response = minio_client.get_object(Bucket=bucket_origen, Key=key)\n",
    "        image_data = response[\"Body\"].read()\n",
    "        #Obrir amb PIL per validar i redimensionar\n",
    "        try:\n",
    "            img = Image.open(io.BytesIO(image_data)).convert(\"RGB\")\n",
    "        except Exception as e:\n",
    "            print(f\"Error amb {filename}: {e}\")\n",
    "            continue\n",
    "\n",
    "        #Redimensionar a mida consistent\n",
    "        img = img.resize(mida_final)\n",
    "        \n",
    "        # APLICAR TRATAMIENTOS DE MEJORA\n",
    "        \n",
    "        # 1. Normalización de colores (ajustar brillo y contraste)\n",
    "        # Ajustar brillo (ligeramente más brillante)\n",
    "        brightness_enhancer = ImageEnhance.Brightness(img)\n",
    "        img = brightness_enhancer.enhance(1.1)  # +10% brillo\n",
    "        \n",
    "        # Ajustar contraste (mejorar contraste)\n",
    "        contrast_enhancer = ImageEnhance.Contrast(img)\n",
    "        img = contrast_enhancer.enhance(1.15)  # +15% contraste\n",
    "        \n",
    "        # Ajustar saturación (colores más vivos)\n",
    "        color_enhancer = ImageEnhance.Color(img)\n",
    "        img = color_enhancer.enhance(1.05)  # +5% saturación\n",
    "        \n",
    "        # 2. Suavizado para reducir ruido\n",
    "        img = img.filter(ImageFilter.GaussianBlur(radius=0.3))  # Suavizado ligero\n",
    "        \n",
    "        # 3. Aplicar filtro de nitidez para compensar el suavizado\n",
    "        img = img.filter(ImageFilter.SHARPEN)\n",
    "\n",
    "        #Desa a memòria i puja a trusted-zone\n",
    "        buffer = io.BytesIO()\n",
    "        img.save(buffer, format=\"PNG\", optimize=True)\n",
    "        buffer.seek(0)\n",
    "\n",
    "        new_key = f\"images/{filename}\"\n",
    "        minio_client.put_object(\n",
    "            Bucket=bucket_desti,\n",
    "            Key=new_key,\n",
    "            Body=buffer\n",
    "        )"
   ]
  }
 ],
 "metadata": {
  "kernelspec": {
   "display_name": "Python 3",
   "language": "python",
   "name": "python3"
  },
  "language_info": {
   "codemirror_mode": {
    "name": "ipython",
    "version": 3
   },
   "file_extension": ".py",
   "mimetype": "text/x-python",
   "name": "python",
   "nbconvert_exporter": "python",
   "pygments_lexer": "ipython3",
   "version": "3.10.3"
  }
 },
 "nbformat": 4,
 "nbformat_minor": 5
}
