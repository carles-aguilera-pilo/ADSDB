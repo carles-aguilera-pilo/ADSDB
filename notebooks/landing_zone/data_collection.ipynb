{
 "cells": [
  {
   "cell_type": "markdown",
   "id": "9adf352d",
   "metadata": {},
   "source": [
    "# Obtaining the data from datasources\n",
    "\n",
    "This project focuses on the design and execution of a data processing pipeline that transforms raw data from multiple sources into a structued format suitable for machine learning applications.\n",
    "\n",
    "In a real scenario, such data sources would come from different repositories or systems, for example, different databases or APIs, each containing only a subset of the required information. However, these idealized and openly accessible data sources do not always exist in practice, especially when the project involves combining multiple types of information. To overcome this limitation and for academic purposes, we have created our own data sources by extracting, restructuring, and combining data from existing public datasets.\n",
    "\n",
    "This notebook therefore begins by introducing the different simulated data sources we created, explaining their purpose and structure. After that, in the [temporal landing zone](./temporal_zone.ipynb) we demonstrate how the pipeline ingests theses sources, and futher applies transformations to produce a final dataset ready for use in ML models.\n",
    "\n",
    "The different datasources we used or created are the following:\n",
    "1. [huggingface dataset](https://huggingface.co/datasets/Moaaz55/skin_cancer_questions_answers). This dataset is used for ...\n",
    "2. Self made audio dataset. This dataset is used for ...\n",
    "3. Wikipedia web scrapping information. This dataset is used for...\n",
    "\n",
    "In the next sections, we will discuss how the data is obtained to further insert them into the first zone of the pipeline."
   ]
  },
  {
   "cell_type": "code",
   "execution_count": 1,
   "id": "da091db5",
   "metadata": {},
   "outputs": [],
   "source": [
    "import os\n",
    "from os import mkdir\n",
    "# Get the path to the folder named ADSDB\n",
    "BASE_DIR = os.getcwd().split(\"ADSDB\")[0] + \"ADSDB/\"\n",
    "OUTPUT_DIR = os.path.join(BASE_DIR, \"output/\")\n",
    "datasets = 3\n",
    "\n",
    "for i in range(1, datasets + 1):\n",
    "    try:\n",
    "        #TODO output dir not good.\n",
    "        mkdir(OUTPUT_DIR)\n",
    "        mkdir(OUTPUT_DIR + f\"dataset{i}/\")\n",
    "    except FileExistsError:\n",
    "        pass\n",
    "\n"
   ]
  },
  {
   "cell_type": "markdown",
   "id": "4a733d14",
   "metadata": {},
   "source": [
    "## HAM10000\n",
    "\n",
    "The primary image dataset for our project is the **HAM10000** (Human Against Machine with 10,000 Training images) dataset, which we acquired directly from the **Hugging Face Hub**. This is a large, publicly available collection of dermatoscopic images specifically for the dermatological research. It contains thousands of images representing common pigmented skin lesions, including various types of moles and skin cancers. Each image is associated with a specific diagnostic category, making it a very good resource for tasks related to image classification of skin conditions.\n",
    "\n"
   ]
  },
  {
   "cell_type": "code",
   "execution_count": 2,
   "id": "c1191422",
   "metadata": {},
   "outputs": [
    {
     "name": "stderr",
     "output_type": "stream",
     "text": [
      "/Library/Frameworks/Python.framework/Versions/3.10/lib/python3.10/site-packages/tqdm/auto.py:21: TqdmWarning: IProgress not found. Please update jupyter and ipywidgets. See https://ipywidgets.readthedocs.io/en/stable/user_install.html\n",
      "  from .autonotebook import tqdm as notebook_tqdm\n"
     ]
    }
   ],
   "source": [
    "import os\n",
    "from datasets import load_dataset\n",
    "from PIL import Image\n",
    "\n",
    "ds = load_dataset(\"abaryan/ham10000_bbox\")\n",
    "data = ds['train']\n",
    "sample_data = data.shuffle(seed=42).select(range(100))\n",
    "\n",
    "for item in sample_data:\n",
    "    image: Image.Image = item['image']\n",
    "    image_id: str = item['image_id']\n",
    "    filename = f\"{image_id}.jpg\"\n",
    "    save_path = os.path.join(OUTPUT_DIR+\"/dataset1\", filename)\n",
    "    image.save(save_path)"
   ]
  },
  {
   "cell_type": "markdown",
   "id": "914a55dc",
   "metadata": {},
   "source": [
    "## Wikipedia web scrapping\n",
    "\n",
    "For the textual resource, we generated a corpus by performing **web scrapping** of Wikipedia. We targeted a specific set of articles centered on the topic of skin cancer, including pages detailing its various forms, risk factors, prevention methods... This process involved extracting the full text from these pages. We achieved this by obtaining the HTML and then, we saw that the data is contained in all the <p> HTML tags. Therefore, we iterated each of this components and we extracted all the rellevant information and saved into a file to introduce the dataset into the pipeline in the next process. The result is a cusotm-made text dataset centered on skin cancer information, designed for different type of data science applications."
   ]
  },
  {
   "cell_type": "code",
   "execution_count": 3,
   "id": "d0c2a8c8",
   "metadata": {},
   "outputs": [],
   "source": [
    "import requests\n",
    "from bs4 import BeautifulSoup\n",
    "\n",
    "topics = [\"skin_cancer\", \"melanoma\", \"basal_cell_carcinoma\", \"squamous_cell_carcinoma\", \"actinic_keratosis\"]\n",
    "\n",
    "def wikipedia_scrapper(topics):\n",
    "    for topic in topics:\n",
    "        url = 'https://en.wikipedia.org/wiki/' + topic\n",
    "        user_agent = \"Mozilla/5.0 (Windows NT 10.0; Win64; x64) AppleWebKit/537.36 (KHTML, like Gecko) Chrome/58.0.3029.110 Safari/537.3\"\n",
    "        res = requests.get(url, headers={'User-Agent': user_agent})\n",
    "        soup = BeautifulSoup(res.text, 'html.parser')\n",
    "\n",
    "        data = ''\n",
    "        for p in soup.find_all('p'):\n",
    "            data += p.get_text()\n",
    "            data += '\\n'\n",
    "        \n",
    "        data = data.strip()\n",
    "\n",
    "        for j in range(1, 750):\n",
    "            data = data.replace('[' + str(j) + ']', '')\n",
    "\n",
    "\n",
    "        fd = open(OUTPUT_DIR + \"dataset2/\" + topic + '.txt', 'w')\n",
    "        fd.write(data)\n",
    "        fd.close()\n",
    "\n",
    "wikipedia_scrapper(topics)"
   ]
  },
  {
   "cell_type": "markdown",
   "id": "66ed3300",
   "metadata": {},
   "source": [
    "## Self made audio dataset\n",
    "\n",
    "For our third datset, we created a set of spoken answers. We started by getting a datset of skin cancer Q&A in text format from the **Hugging Face Hub**. Our goal was to turn the written answers into audio files. To do this, we used a Text-to-Speech (TTS) tool called Piper. We fed a sample of 100 text answers from the dataset into Piper, and it generated a spoken audio clip for each one. The final result is a collection of .wav files containing all the answers."
   ]
  },
  {
   "cell_type": "code",
   "execution_count": 4,
   "id": "a6e45004",
   "metadata": {},
   "outputs": [],
   "source": [
    "import pandas as pd\n",
    "\n",
    "df = pd.read_json(\"hf://datasets/Moaaz55/skin_cancer_questions_answers/dataset.json\", lines=True)\n",
    "\n",
    "df = df.sample(n=100, random_state=42)\n",
    "df = df.apply(lambda row: f\"A: {row['Answer']}\\n\", axis=1)"
   ]
  },
  {
   "cell_type": "markdown",
   "id": "e7c9e61e",
   "metadata": {},
   "source": [
    "## Model instal·lation\n",
    "\n",
    "To install the model, you must execute this command:\n",
    "```sh\n",
    "python3 -m piper.download_voices en_US-lessac-medium\n",
    "```\n"
   ]
  },
  {
   "cell_type": "code",
   "execution_count": 5,
   "id": "7c013d07",
   "metadata": {},
   "outputs": [],
   "source": [
    "import wave\n",
    "from piper import PiperVoice\n",
    "import os\n",
    "\n",
    "voice = PiperVoice.load(os.path.join(BASE_DIR, \"en_US-lessac-medium.onnx\"))\n",
    "\n",
    "for i, text in enumerate(df):\n",
    "    text = text.replace(\"A: \", \"\").strip()\n",
    "    with wave.open(os.path.join(OUTPUT_DIR, f\"dataset3/answer_{i}.wav\"), \"wb\") as wav_file:\n",
    "        voice.synthesize_wav(text, wav_file)"
   ]
  }
 ],
 "metadata": {
  "kernelspec": {
   "display_name": "Python 3",
   "language": "python",
   "name": "python3"
  },
  "language_info": {
   "codemirror_mode": {
    "name": "ipython",
    "version": 3
   },
   "file_extension": ".py",
   "mimetype": "text/x-python",
   "name": "python",
   "nbconvert_exporter": "python",
   "pygments_lexer": "ipython3",
   "version": "3.10.3"
  }
 },
 "nbformat": 4,
 "nbformat_minor": 5
}
