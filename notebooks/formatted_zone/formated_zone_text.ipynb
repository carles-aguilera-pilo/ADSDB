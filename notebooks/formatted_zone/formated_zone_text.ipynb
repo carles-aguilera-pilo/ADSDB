{
 "cells": [
  {
   "cell_type": "code",
   "execution_count": 1,
   "id": "353465f1",
   "metadata": {},
   "outputs": [],
   "source": [
    "import boto3\n",
    "import os"
   ]
  },
  {
   "cell_type": "code",
   "execution_count": 5,
   "id": "74b10f06",
   "metadata": {},
   "outputs": [],
   "source": [
    "access_key_id = \"minioadmin\"\n",
    "secret_access_key = \"minioadmin\"\n",
    "minio_url = \"http://localhost:9000\"\n",
    "\n",
    "minio_client = boto3.client(\n",
    "    \"s3\",\n",
    "    aws_access_key_id=access_key_id,\n",
    "    aws_secret_access_key=secret_access_key,\n",
    "    endpoint_url=minio_url\n",
    ")\n",
    "\n",
    "new_bucket = \"formatted-zone\"\n",
    "\n",
    "try:\n",
    "    minio_client.head_bucket(Bucket=new_bucket)\n",
    "except:\n",
    "    minio_client.create_bucket(Bucket=new_bucket)"
   ]
  },
  {
   "cell_type": "code",
   "execution_count": 7,
   "id": "42299dde",
   "metadata": {},
   "outputs": [
    {
     "name": "stderr",
     "output_type": "stream",
     "text": [
      "Processant fitxers de text: 100%|██████████| 1/1 [00:00<00:00,  5.95it/s]\n"
     ]
    }
   ],
   "source": [
    "import io\n",
    "import re\n",
    "from tqdm import tqdm\n",
    "\n",
    "bucket_origen = \"persistent-landing\"\n",
    "bucket_desti = \"formatted-zone\"\n",
    "prefix_origen = \"textos/\"\n",
    "\n",
    "# Llistar tots els .txt del bucket d'origen , ho fem de forma automatitzada per si en un futur\n",
    "# hem de carregar més textos\n",
    "paginator = minio_client.get_paginator(\"list_objects_v2\")\n",
    "\n",
    "for page in paginator.paginate(Bucket=bucket_origen, Prefix=prefix_origen):\n",
    "    for obj in tqdm(page.get(\"Contents\", []), desc=\"Processant fitxers de text\"):\n",
    "        key = obj[\"Key\"]\n",
    "\n",
    "        # Nom del fitxer (sense path)\n",
    "        filename = key.split(\"/\")[-1]\n",
    "\n",
    "        if not filename.lower().endswith(\".txt\"):\n",
    "            continue\n",
    "\n",
    "        #Llegir el contingut del fitxer original\n",
    "        response = minio_client.get_object(Bucket=bucket_origen, Key=key)\n",
    "        text = response[\"Body\"].read().decode(\"utf-8\", errors=\"ignore\")\n",
    "\n",
    "        # Tractament automàtic del text\n",
    "        text_clean = re.sub(r\"[ \\t]+\", \" \", text)          # treu espais extra\n",
    "        text_clean = re.sub(r\"\\n\\s*\\n+\", \"\\n\", text_clean) # elimina línies buides\n",
    "        text_clean = text_clean.strip()\n",
    "\n",
    "        # Convertir a bytes i pujar-lo al bucket formatted-zone\n",
    "        new_key = f\"textos/{filename}\"\n",
    "\n",
    "        minio_client.put_object(\n",
    "            Bucket=bucket_desti,\n",
    "            Key=new_key,\n",
    "            Body=io.BytesIO(text_clean.encode(\"utf-8\"))\n",
    "        )"
   ]
  },
  {
   "cell_type": "code",
   "execution_count": null,
   "id": "4747ccc0",
   "metadata": {},
   "outputs": [],
   "source": []
  }
 ],
 "metadata": {
  "kernelspec": {
   "display_name": "Python 3",
   "language": "python",
   "name": "python3"
  },
  "language_info": {
   "codemirror_mode": {
    "name": "ipython",
    "version": 3
   },
   "file_extension": ".py",
   "mimetype": "text/x-python",
   "name": "python",
   "nbconvert_exporter": "python",
   "pygments_lexer": "ipython3",
   "version": "3.10.3"
  }
 },
 "nbformat": 4,
 "nbformat_minor": 5
}
