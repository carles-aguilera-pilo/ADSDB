{
 "cells": [
  {
   "cell_type": "code",
   "execution_count": 1,
   "id": "75103d9b",
   "metadata": {},
   "outputs": [],
   "source": [
    "import boto3\n",
    "import os"
   ]
  },
  {
   "cell_type": "code",
   "execution_count": null,
   "id": "4ed5f8ea",
   "metadata": {},
   "outputs": [],
   "source": [
    "access_key_id = \"minioadmin\"\n",
    "secret_access_key = \"minioadmin\"\n",
    "minio_url = \"http://localhost:9000\"\n",
    "\n",
    "minio_client = boto3.client(\n",
    "    \"s3\",\n",
    "    aws_access_key_id=access_key_id,\n",
    "    aws_secret_access_key=secret_access_key,\n",
    "    endpoint_url=minio_url\n",
    ")\n",
    "\n",
    "new_bucket = \"formatted-zone\"\n",
    "try:\n",
    "    minio_client.head_bucket(Bucket=new_bucket)\n",
    "except:\n",
    "    minio_client.create_bucket(Bucket=new_bucket)\n",
    "    \n",
    "    \n",
    "    \n",
    "name_bucket = \"dump\"\n",
    "try:\n",
    "    minio_client.head_bucket(Bucket=name_bucket)\n",
    "    print(f\"Bucket '{bucket}' ja existeix\")\n",
    "except:\n",
    "    minio_client.create_bucket(name_bucket)"
   ]
  },
  {
   "cell_type": "code",
   "execution_count": null,
   "id": "47d4ab8e",
   "metadata": {},
   "outputs": [
    {
     "name": "stderr",
     "output_type": "stream",
     "text": [
      "Processant àudios:   0%|          | 0/17 [00:00<?, ?it/s]"
     ]
    },
    {
     "name": "stderr",
     "output_type": "stream",
     "text": [
      "Processant àudios: 100%|██████████| 17/17 [00:15<00:00,  1.07it/s]\n"
     ]
    }
   ],
   "source": [
    "from pydub import AudioSegment\n",
    "import io\n",
    "from tqdm import tqdm\n",
    "\n",
    "bucket_origen = \"persistent-landing\"\n",
    "bucket_desti = \"formatted-zone\"\n",
    "prefix_origen = \"audios/\"\n",
    "\n",
    "# Formatos de audio soportados\n",
    "formatos_audio = {'.mp3', '.wav', '.flac', '.m4a', '.aac', '.ogg', '.wma'}\n",
    "\n",
    "paginator = minio_client.get_paginator(\"list_objects_v2\")\n",
    "\n",
    "for page in paginator.paginate(Bucket=bucket_origen, Prefix=prefix_origen):\n",
    "    for obj in tqdm(page.get(\"Contents\", []), desc=\"Processant àudios\"):\n",
    "        key = obj[\"Key\"]\n",
    "        filename = key.split(\"/\")[-1]\n",
    "        \n",
    "        # Obtener la extensión del archivo\n",
    "        extension = os.path.splitext(filename)[1].lower()\n",
    "        \n",
    "        # Solo procesar archivos de audio\n",
    "        if extension not in formatos_audio:\n",
    "            # Guardar archivo no reconocido en dump\n",
    "            response = minio_client.get_object(Bucket=bucket_origen, Key=key)\n",
    "            file_data = response[\"Body\"].read()\n",
    "            \n",
    "            minio_client.put_object(\n",
    "                Bucket=\"dump\",\n",
    "                Key=key,\n",
    "                Body=file_data\n",
    "            )\n",
    "            continue\n",
    "            \n",
    "        # Crear el nuevo nombre con extensión .mp3\n",
    "        nombre_sin_extension = os.path.splitext(filename)[0]\n",
    "        nuevo_filename = f\"{nombre_sin_extension}.mp3\"\n",
    "\n",
    "        # Llegir àudio original\n",
    "        response = minio_client.get_object(Bucket=bucket_origen, Key=key)\n",
    "        audio_data = response[\"Body\"].read()\n",
    "\n",
    "        # Obrir amb pydub (detectar formato automáticamente)\n",
    "        try:\n",
    "            audio = AudioSegment.from_file(io.BytesIO(audio_data))\n",
    "        except Exception as e:\n",
    "            print(f\"Error amb {filename}: {e}\")\n",
    "            continue\n",
    "\n",
    "        # Desa com MP3 i puja al bucket formatted-zone\n",
    "        buffer = io.BytesIO()\n",
    "        audio.export(buffer, format=\"mp3\")\n",
    "        buffer.seek(0)\n",
    "\n",
    "        new_key = f\"audios/{nuevo_filename}\"\n",
    "        minio_client.put_object(\n",
    "            Bucket=bucket_desti,\n",
    "            Key=new_key,\n",
    "            Body=buffer\n",
    "        )"
   ]
  }
 ],
 "metadata": {
  "kernelspec": {
   "display_name": "Python 3",
   "language": "python",
   "name": "python3"
  },
  "language_info": {
   "codemirror_mode": {
    "name": "ipython",
    "version": 3
   },
   "file_extension": ".py",
   "mimetype": "text/x-python",
   "name": "python",
   "nbconvert_exporter": "python",
   "pygments_lexer": "ipython3",
   "version": "3.10.3"
  }
 },
 "nbformat": 4,
 "nbformat_minor": 5
}
