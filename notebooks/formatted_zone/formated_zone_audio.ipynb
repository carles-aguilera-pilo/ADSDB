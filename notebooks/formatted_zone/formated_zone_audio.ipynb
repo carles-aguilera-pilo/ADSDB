{
 "cells": [
  {
   "cell_type": "markdown",
   "id": "e6162dda",
   "metadata": {},
   "source": [
    "# Formatted Zone (Audio)\n",
    "\n",
    "This notebook contains the scripts needed for the extraction of audio from the persistent landing zone, its processing and storage to the formatted zone. The formatted zone is represented by another bucket and aims to replicate the same folder structure as the persistent landing zone. The difference is that the data format in the formatted zone has been homogenized, as one of the steps of our data pipeline. \n",
    "\n",
    "This notebook focuses only on images data (the equivalent notebooks for the other types of data can be found in the same folder). Particularly, the following scripts are responsible of the following tasks:\n",
    "1. Extraction of audios from persistent landing zone.\n",
    "2. Homogenization of data. In this case, that will consist on ensuring that all images are converted to .png files.\n",
    "3. Formatted data storage into the formatted zone.\n",
    "\n",
    "First, we will connect to MinIO and prepare the new bucket:"
   ]
  },
  {
   "cell_type": "code",
   "execution_count": null,
   "id": "4ed5f8ea",
   "metadata": {},
   "outputs": [],
   "source": [
    "import boto3\n",
    "import os\n",
    "from dotenv import load_dotenv\n",
    "\n",
    "load_dotenv()\n",
    "access_key_id = os.getenv(\"ACCESS_KEY_ID\")\n",
    "secret_access_key = os.getenv(\"SECRET_ACCESS_KEY\")\n",
    "minio_url = \"http://\" + os.getenv(\"S3_API_ENDPOINT\")\n",
    "\n",
    "\n",
    "minio_client = boto3.client(\n",
    "    \"s3\",\n",
    "    aws_access_key_id=access_key_id,\n",
    "    aws_secret_access_key=secret_access_key,\n",
    "    endpoint_url=minio_url\n",
    ")\n",
    "\n",
    "new_bucket = \"formatted-zone\"\n",
    "try:\n",
    "    minio_client.create_bucket(Bucket=new_bucket)\n",
    "except (minio_client.exceptions.BucketAlreadyExists, minio_client.exceptions.BucketAlreadyOwnedByYou):\n",
    "    print(f\"Bucket '{new_bucket}' already exists\")"
   ]
  },
  {
   "cell_type": "markdown",
   "id": "635d4481",
   "metadata": {},
   "source": [
    "Now, for each audio in the persistent landing zone the following script will donwload it, convert it to png format and store it in the formatted zone. Notice that the old versions are kept in the persistent landing zone so the raw data is still available if it is needed.\n",
    "\n",
    "The script uses Pillow to perform image manipulation, so the range of supported image formats of our pipeline depends on this library (which can be found in the [docs](https://pillow.readthedocs.io/en/stable/handbook/image-file-formats.html). Some of them are .png, .jpg/.jpeg, .bmp, .tif/.tiff, .gif and .webp."
   ]
  },
  {
   "cell_type": "code",
   "execution_count": null,
   "id": "47d4ab8e",
   "metadata": {},
   "outputs": [
    {
     "name": "stderr",
     "output_type": "stream",
     "text": [
      "Processant àudios:   0%|          | 0/17 [00:00<?, ?it/s]"
     ]
    },
    {
     "name": "stderr",
     "output_type": "stream",
     "text": [
      "Processant àudios: 100%|██████████| 17/17 [00:15<00:00,  1.07it/s]\n"
     ]
    }
   ],
   "source": [
    "from pydub import AudioSegment\n",
    "import io\n",
    "\n",
    "bucket_origin = \"persistent-landing\"\n",
    "bucket_destination = \"formatted-zone\"\n",
    "path_prefix = \"audios/\"\n",
    "\n",
    "paginator = minio_client.get_paginator(\"list_objects_v2\")\n",
    "\n",
    "for page in paginator.paginate(Bucket=bucket_origin, Prefix=path_prefix):\n",
    "    for obj in page[\"Contents\"]:\n",
    "        key = obj[\"Key\"]\n",
    "        split_filename = os.path.splitext(key.split(\"/\")[1])\n",
    "        filename = split_filename[0]\n",
    "        format = split_filename[1].lower()\n",
    "        \n",
    "        try:\n",
    "            response = minio_client.get_object(Bucket=bucket_origin, Key=key)\n",
    "\n",
    "            # Audio conversion to mp3\n",
    "            audio_data = response[\"Body\"].read()\n",
    "            audio = AudioSegment.from_file(io.BytesIO(audio_data))\n",
    "            buffer = io.BytesIO()\n",
    "            audio.export(buffer, format=\"mp3\")\n",
    "            buffer.seek(0)\n",
    "\n",
    "            # Upload audio to formatted zone\n",
    "            new_key = path_prefix + filename + \".mp3\"\n",
    "            minio_client.upload_fileobj(Fileobj=buffer, Bucket=bucket_destination, Key=new_key)\n",
    "            minio_client.head_object(Bucket=bucket_destination, Key=new_key) # Checks if the file was uploaded successfully and throws an exception otherwise.\n",
    "        except botocore.exceptions.ClientError as e:\n",
    "            print(f\"[ERROR]: An error occurred while moving {filename} between zones: {e}\")\n",
    "        except Exception as e:\n",
    "            print(f\"[ERROR]: An error occurred while manipulating {filename}: {e}\")"
   ]
  }
 ],
 "metadata": {
  "kernelspec": {
   "display_name": "Python 3",
   "language": "python",
   "name": "python3"
  },
  "language_info": {
   "codemirror_mode": {
    "name": "ipython",
    "version": 3
   },
   "file_extension": ".py",
   "mimetype": "text/x-python",
   "name": "python",
   "nbconvert_exporter": "python",
   "pygments_lexer": "ipython3",
   "version": "3.10.3"
  }
 },
 "nbformat": 4,
 "nbformat_minor": 5
}
