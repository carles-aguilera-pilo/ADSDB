{
 "cells": [
  {
   "cell_type": "markdown",
   "id": "6fe7f3fe",
   "metadata": {},
   "source": [
    "# Exploitation Zone Text\n",
    "\n",
    "This notebook builds an audio embedding pipeline: it loads S3/MinIO credentials, connects to MinIO and a ChromaDB HTTP server, it instantiates a sentence-transfomers model (all-MiniLM-L6-v2) for text embeddings. It creates a chroma collection, it iterates over the text MinIO objects and extracts the embeddings for each object. This embeddings will be used in the last part of the project."
   ]
  },
  {
   "cell_type": "code",
   "execution_count": 2,
   "id": "1c797b77",
   "metadata": {},
   "outputs": [
    {
     "name": "stdout",
     "output_type": "stream",
     "text": [
      "Bucket 'exploitation-zone' already exists\n"
     ]
    }
   ],
   "source": [
    "import boto3\n",
    "import os\n",
    "from dotenv import load_dotenv\n",
    "\n",
    "load_dotenv()\n",
    "access_key_id = os.getenv(\"ACCESS_KEY_ID\")\n",
    "secret_access_key = os.getenv(\"SECRET_ACCESS_KEY\")\n",
    "minio_url = \"http://\" + os.getenv(\"S3_API_ENDPOINT\")\n",
    "\n",
    "\n",
    "minio_client = boto3.client(\n",
    "    \"s3\",\n",
    "    aws_access_key_id=access_key_id,\n",
    "    aws_secret_access_key=secret_access_key,\n",
    "    endpoint_url=minio_url\n",
    ")\n",
    "\n",
    "new_bucket = \"exploitation-zone\"\n",
    "try:\n",
    "    minio_client.create_bucket(Bucket=new_bucket)\n",
    "except (minio_client.exceptions.BucketAlreadyExists, minio_client.exceptions.BucketAlreadyOwnedByYou):\n",
    "    print(f\"Bucket '{new_bucket}' already exists\")"
   ]
  },
  {
   "cell_type": "code",
   "execution_count": 3,
   "id": "b9625d3f",
   "metadata": {},
   "outputs": [
    {
     "name": "stdout",
     "output_type": "stream",
     "text": [
      "returned keys: ['ids', 'embeddings', 'metadatas', 'documents', 'data', 'uris', 'included']\n"
     ]
    }
   ],
   "source": [
    "import chromadb\n",
    "from chromadb.utils.embedding_functions import DefaultEmbeddingFunction\n",
    "\n",
    "client = chromadb.HttpClient(host=\"localhost\", port=8000)\n",
    "default_ef = DefaultEmbeddingFunction()\n",
    "paginator = minio_client.get_paginator(\"list_objects_v2\")\n",
    "exploitation_zone = \"exploitation-zone\"\n",
    "trusted_zone = \"trusted-zone\"\n",
    "\n",
    "collection_name = \"exploitation-zone_text\"\n",
    "try:\n",
    "    collection = client.get_or_create_collection(name=collection_name)\n",
    "except Exception as e:\n",
    "    print(f\"Error accessing or creating collection: {e}\")\n",
    "    exit(1)\n",
    "\n",
    "for page in paginator.paginate(Bucket=trusted_zone, Prefix=\"text/\"):\n",
    "    for obj in page.get(\"Contents\", []):\n",
    "        key = obj.get(\"Key\", \"\")\n",
    "        response = minio_client.get_object(Bucket=trusted_zone, Key=key)\n",
    "        document_content = response['Body'].read().decode('utf-8')\n",
    "\n",
    "        embedding = default_ef([document_content])[0]\n",
    "\n",
    "        collection.add(\n",
    "            documents=[document_content],\n",
    "            embeddings=[embedding],\n",
    "            ids=[key]\n",
    "        )\n",
    "        minio_client.copy_object(\n",
    "            Bucket=exploitation_zone,\n",
    "            CopySource={'Bucket': trusted_zone, 'Key': key},\n",
    "            Key=key\n",
    "        )\n",
    "result = collection.get()\n",
    "print(\"returned keys:\", list(result.keys()))"
   ]
  },
  {
   "cell_type": "markdown",
   "id": "21165884",
   "metadata": {},
   "source": [
    "# Nearest Neighbour search on text\n",
    "\n",
    "This cell does the same modality search on text. We used a query string and we ask \"What are common symptoms of skin cancer?\", then we encode that text into an embedding with the SentenceTransformer used for indexing. Then we set to top_k=1 and we query the chroma collection of the k-nearest neighbours. In our case, since k=1, we only get the closest neighbour. Finally, it prints the data which is the closest to the one provided."
   ]
  },
  {
   "cell_type": "code",
   "execution_count": 1,
   "id": "97175497",
   "metadata": {},
   "outputs": [
    {
     "ename": "NameError",
     "evalue": "name 'default_ef' is not defined",
     "output_type": "error",
     "traceback": [
      "\u001b[31m---------------------------------------------------------------------------\u001b[39m",
      "\u001b[31mNameError\u001b[39m                                 Traceback (most recent call last)",
      "\u001b[36mCell\u001b[39m\u001b[36m \u001b[39m\u001b[32mIn[1]\u001b[39m\u001b[32m, line 2\u001b[39m\n\u001b[32m      1\u001b[39m query_text = \u001b[33m\"\u001b[39m\u001b[33mWhat are common symptoms of skin cancer?\u001b[39m\u001b[33m\"\u001b[39m\n\u001b[32m----> \u001b[39m\u001b[32m2\u001b[39m query_emb = \u001b[43mdefault_ef\u001b[49m([query_text])[\u001b[32m0\u001b[39m]\n\u001b[32m      4\u001b[39m top_k = \u001b[32m1\u001b[39m\n\u001b[32m      5\u001b[39m results = collection.query(\n\u001b[32m      6\u001b[39m     query_embeddings=[query_emb],\n\u001b[32m      7\u001b[39m     n_results=top_k,\n\u001b[32m      8\u001b[39m     include=[\u001b[33m\"\u001b[39m\u001b[33mdocuments\u001b[39m\u001b[33m\"\u001b[39m, \u001b[33m\"\u001b[39m\u001b[33mdistances\u001b[39m\u001b[33m\"\u001b[39m]\n\u001b[32m      9\u001b[39m )\n",
      "\u001b[31mNameError\u001b[39m: name 'default_ef' is not defined"
     ]
    }
   ],
   "source": [
    "query_text = \"What are common symptoms of skin cancer?\"\n",
    "query_emb = default_ef([query_text])[0]\n",
    "\n",
    "top_k = 1\n",
    "results = collection.query(\n",
    "    query_embeddings=[query_emb],\n",
    "    n_results=top_k,\n",
    "    include=[\"documents\", \"distances\"]\n",
    ")\n",
    "\n",
    "print(\"\\n--- Query Results ---\")\n",
    "print(f\"Query: '{query_text}'\")\n",
    "print(f\"Most similar document: {results['documents'][0][0]}\")\n",
    "print(f\"Distance: {results['distances'][0][0]}\")"
   ]
  }
 ],
 "metadata": {
  "kernelspec": {
   "display_name": "venv",
   "language": "python",
   "name": "python3"
  },
  "language_info": {
   "codemirror_mode": {
    "name": "ipython",
    "version": 3
   },
   "file_extension": ".py",
   "mimetype": "text/x-python",
   "name": "python",
   "nbconvert_exporter": "python",
   "pygments_lexer": "ipython3",
   "version": "3.12.3"
  }
 },
 "nbformat": 4,
 "nbformat_minor": 5
}
