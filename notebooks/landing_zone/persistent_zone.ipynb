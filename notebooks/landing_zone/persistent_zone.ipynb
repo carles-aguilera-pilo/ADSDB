{
 "cells": [
  {
   "cell_type": "code",
   "execution_count": 3,
   "id": "5ac633e7",
   "metadata": {},
   "outputs": [],
   "source": [
    "import boto3\n",
    "\n",
    "access_key_id = \"minioadmin\"\n",
    "secret_access_key = \"minioadmin\"\n",
    "minio_url = \"http://localhost:9000\"\n",
    "\n",
    "minio_client = boto3.client(\n",
    "    \"s3\",\n",
    "    aws_access_key_id=access_key_id,\n",
    "    aws_secret_access_key=secret_access_key,\n",
    "    endpoint_url=minio_url\n",
    ")"
   ]
  },
  {
   "cell_type": "code",
   "execution_count": 4,
   "id": "44d88523",
   "metadata": {},
   "outputs": [],
   "source": [
    "bucket_new = \"persistent-landing\"\n",
    "\n",
    "try:\n",
    "    minio_client.head_bucket(Bucket=bucket_new)\n",
    "    print(f\"Bucket '{bucket}' ja existeix\")\n",
    "except:\n",
    "    minio_client.create_bucket(Bucket=bucket_new)"
   ]
  },
  {
   "cell_type": "code",
   "execution_count": 19,
   "id": "d4494ae0",
   "metadata": {},
   "outputs": [
    {
     "name": "stderr",
     "output_type": "stream",
     "text": [
      "Reorganitzant fitxers: 100%|██████████| 1000/1000 [00:09<00:00, 106.83it/s]\n",
      "Reorganitzant fitxers: 100%|██████████| 1000/1000 [00:06<00:00, 148.02it/s]\n",
      "Reorganitzant fitxers: 100%|██████████| 1000/1000 [00:06<00:00, 144.73it/s]\n",
      "Reorganitzant fitxers: 100%|██████████| 1000/1000 [00:06<00:00, 143.73it/s]\n",
      "Reorganitzant fitxers: 100%|██████████| 1000/1000 [00:07<00:00, 140.91it/s]\n",
      "Reorganitzant fitxers: 100%|██████████| 1000/1000 [00:10<00:00, 91.27it/s]\n",
      "Reorganitzant fitxers: 100%|██████████| 1000/1000 [00:12<00:00, 77.19it/s]\n",
      "Reorganitzant fitxers: 100%|██████████| 1000/1000 [00:07<00:00, 129.92it/s]\n",
      "Reorganitzant fitxers: 100%|██████████| 31/31 [00:00<00:00, 121.82it/s]"
     ]
    },
    {
     "name": "stdout",
     "output_type": "stream",
     "text": [
      "1\n"
     ]
    },
    {
     "name": "stderr",
     "output_type": "stream",
     "text": [
      "\n"
     ]
    }
   ],
   "source": [
    "import os\n",
    "from tqdm import tqdm\n",
    "\n",
    "bucket_anterior = \"landing-zone\"\n",
    "paginator = minio_client.get_paginator(\"list_objects_v2\")\n",
    "\n",
    "for page in paginator.paginate(Bucket=bucket_anterior):\n",
    "    for obj in tqdm(page.get(\"Contents\", []), desc=\"Reorganitzant fitxers\"):\n",
    "        key = obj[\"Key\"]\n",
    "\n",
    "        # Detectar tipus de fitxer\n",
    "        filename = key.strip().lower()  # 👈 neteja espais, minúscules\n",
    "\n",
    "        if filename.endswith(\".mp3\"):\n",
    "            new_key = f\"audios/{os.path.basename(key)}\"\n",
    "        elif filename.endswith((\".png\", \".jpg\", \".jpeg\")):\n",
    "            new_key = f\"imagenes/{os.path.basename(key)}\"\n",
    "        elif filename.endswith((\".csv\", \".parquet\")):\n",
    "            new_key = f\"tabular/{os.path.basename(key)}\"\n",
    "        elif filename.endswith((\".txt\", \".md\", \".json\")):\n",
    "            print(\"1\")\n",
    "            new_key = f\"textos/{os.path.basename(key)}\"\n",
    "        else:\n",
    "            new_key = f\"otros/{os.path.basename(key)}\"\n",
    "    \n",
    "        minio_client.copy_object(\n",
    "            Bucket = bucket_new,\n",
    "            CopySource={\"Bucket\": bucket_anterior, \"Key\": key},\n",
    "            Key = new_key\n",
    "        )"
   ]
  },
  {
   "cell_type": "code",
   "execution_count": null,
   "id": "8401f6af",
   "metadata": {},
   "outputs": [],
   "source": []
  }
 ],
 "metadata": {
  "kernelspec": {
   "display_name": "Python 3",
   "language": "python",
   "name": "python3"
  },
  "language_info": {
   "codemirror_mode": {
    "name": "ipython",
    "version": 3
   },
   "file_extension": ".py",
   "mimetype": "text/x-python",
   "name": "python",
   "nbconvert_exporter": "python",
   "pygments_lexer": "ipython3",
   "version": "3.10.3"
  }
 },
 "nbformat": 4,
 "nbformat_minor": 5
}
