{
 "cells": [
  {
   "cell_type": "markdown",
   "id": "29c5fd71",
   "metadata": {},
   "source": [
    "# Formatted Zone (Images)\n",
    "\n",
    "This notebook contains the scripts needed for the extraction of images from the persistent landing zone, its processing and storage to the formatted zone. The formatted zone is represented by another bucket and aims to replicate the same folder structure as the persistent landing zone. The difference is that the data format in the formatted zone has been homogenized, as one of the steps of our data pipeline. \n",
    "\n",
    "This notebook focuses only on images data (the equivalent notebooks for the other types of data can be found in the same folder). Particularly, the following scripts are responsible of the following tasks:\n",
    "1. Extraction of images from persistent landing zone.\n",
    "2. Homogenization of data. In this case, that will consist on ensuring that all images are converted to .png files.\n",
    "3. Formatted data storage into the formatted zone.\n",
    "4. If the data has been processed correctly, deletion from the persistent landing zone.\n",
    "\n",
    "## 1. Extraction of images from persistent landing zone\n",
    "\n",
    "First, we will connect to MinIO and prepare the new bucket with the image folder:"
   ]
  },
  {
   "cell_type": "code",
   "execution_count": 3,
   "id": "08975d3d",
   "metadata": {},
   "outputs": [],
   "source": [
    "import boto3\n",
    "import os\n",
    "from dotenv import load_dotenv\n",
    "\n",
    "load_dotenv()\n",
    "access_key_id = os.getenv(\"ACCESS_KEY_ID\")\n",
    "secret_access_key = os.getenv(\"SECRET_ACCESS_KEY\")\n",
    "minio_url = \"http://\" + os.getenv(\"S3_API_ENDPOINT\")\n",
    "\n",
    "\n",
    "minio_client = boto3.client(\n",
    "    \"s3\",\n",
    "    aws_access_key_id=access_key_id,\n",
    "    aws_secret_access_key=secret_access_key,\n",
    "    endpoint_url=minio_url\n",
    ")\n",
    "\n",
    "new_bucket = \"formatted-zone\"\n",
    "try:\n",
    "    minio_client.create_bucket(Bucket=new_bucket)\n",
    "except (minio_client.exceptions.BucketAlreadyExists, minio_client.exceptions.BucketAlreadyOwnedByYou):\n",
    "    print(f\"Bucket '{new_bucket}' already exists\")"
   ]
  },
  {
   "cell_type": "markdown",
   "id": "365061d5",
   "metadata": {},
   "source": [
    "Now, for each image in the persistent landing zone the following script will check if it is in png format. If that is not the case but its format is supported by our pipeline, it will convert it, store it in the formatted zone and ultimately delete it from its previous location. If the data format is not supported, the script will not know how to proceed, ignoring it. In that case, the data is left in the persistent landing zone. We, as designers, believe that this is the best approach to dealing with this anomalies: Neither allowing them to continue the following phases of the pipeline nor be deleted, but keeping them until a decision is made.\n",
    "\n",
    "The script uses Pillow to perform image manipulation, so the range of supported image formats of our pipeline depends on this library (which can be found in the [docs](https://pillow.readthedocs.io/en/stable/handbook/image-file-formats.html). Some of them are .png, .jpg/.jpeg, .bmp, .tif/.tiff, .gif and .webp."
   ]
  },
  {
   "cell_type": "code",
   "execution_count": null,
   "id": "3da3f2ff",
   "metadata": {},
   "outputs": [],
   "source": [
    "from PIL import Image\n",
    "import botocore.exceptions\n",
    "import io\n",
    "\n",
    "bucket_origin = \"persistent-landing\"\n",
    "bucket_destination = \"formatted-zone\"\n",
    "path_prefix = \"imagenes/\"\n",
    "\n",
    "paginator = minio_client.get_paginator(\"list_objects_v2\") # We use paginators because the list_objects method response is limitted to a maximum of 1,000 objects \n",
    "\n",
    "for page in paginator.paginate(Bucket=bucket_origin, Prefix=path_prefix):\n",
    "    for obj in page[\"Contents\"]:\n",
    "        key = obj[\"Key\"]\n",
    "        split_filename = os.path.splitext(key.split(\"/\")[1])\n",
    "        filename = split_filename[0]\n",
    "        format = split_filename[1].lower()\n",
    "        \n",
    "        try:\n",
    "            response = minio_client.get_object(Bucket=bucket_origin, Key=key)\n",
    "\n",
    "            image_data = response[\"Body\"].read()\n",
    "            image = Image.open(io.BytesIO(image_data))\n",
    "            buffer = io.BytesIO()\n",
    "            image.save(buffer, format=\"PNG\")\n",
    "            buffer.seek(0)\n",
    "\n",
    "            new_key = path_prefix + filename + \".png\"\n",
    "            minio_client.upload_fileobj(Fileobj=buffer, Bucket=bucket_destination, Key=new_key)\n",
    "            minio_client.head_object(Bucket=bucket_destination, Key=new_key) # Checks if the file was uploaded successfully and throws an exception otherwise.\n",
    "            minio_client.delete_object(Bucket=bucket_origin, Key=key) # We delete it from the landing zone once we ensure it has been stored in the formatted zone \n",
    "        except OSError as e:\n",
    "            print(f\"[ERROR]: An error occurred while manipulating {filename}: {e}\")\n",
    "        except botocore.exceptions.ClientError as e:\n",
    "            print(f\"[ERROR]: An error occurred while moving {filename} between zones: {e}\")\n"
   ]
  }
 ],
 "metadata": {
  "kernelspec": {
   "display_name": ".venv",
   "language": "python",
   "name": "python3"
  },
  "language_info": {
   "codemirror_mode": {
    "name": "ipython",
    "version": 3
   },
   "file_extension": ".py",
   "mimetype": "text/x-python",
   "name": "python",
   "nbconvert_exporter": "python",
   "pygments_lexer": "ipython3",
   "version": "3.12.3"
  }
 },
 "nbformat": 4,
 "nbformat_minor": 5
}
