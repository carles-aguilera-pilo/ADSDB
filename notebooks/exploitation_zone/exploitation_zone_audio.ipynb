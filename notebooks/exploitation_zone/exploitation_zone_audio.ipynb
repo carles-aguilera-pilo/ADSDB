{
 "cells": [
  {
   "cell_type": "code",
   "execution_count": 2,
   "id": "580b9092",
   "metadata": {},
   "outputs": [
    {
     "name": "stdout",
     "output_type": "stream",
     "text": [
      "Bucket 'exploitation-zone' already exists\n"
     ]
    }
   ],
   "source": [
    "import boto3\n",
    "import os\n",
    "from dotenv import load_dotenv\n",
    "\n",
    "load_dotenv()\n",
    "access_key_id = os.getenv(\"ACCESS_KEY_ID\")\n",
    "secret_access_key = os.getenv(\"SECRET_ACCESS_KEY\")\n",
    "minio_url = \"http://\" + os.getenv(\"S3_API_ENDPOINT\")\n",
    "\n",
    "\n",
    "minio_client = boto3.client(\n",
    "    \"s3\",\n",
    "    aws_access_key_id=access_key_id,\n",
    "    aws_secret_access_key=secret_access_key,\n",
    "    endpoint_url=minio_url\n",
    ")\n",
    "\n",
    "new_bucket = \"exploitation-zone\"\n",
    "try:\n",
    "    minio_client.create_bucket(Bucket=new_bucket)\n",
    "except (minio_client.exceptions.BucketAlreadyExists, minio_client.exceptions.BucketAlreadyOwnedByYou):\n",
    "    print(f\"Bucket '{new_bucket}' already exists\")"
   ]
  },
  {
   "cell_type": "code",
   "execution_count": 7,
   "id": "eea00e6a",
   "metadata": {},
   "outputs": [
    {
     "name": "stderr",
     "output_type": "stream",
     "text": [
      "/tmp/ipykernel_67570/138622884.py:40: FutureWarning: `audios` is deprecated and will be removed in version v4.59.0 for `ClapProcessor.__call__`. Use `audio` instead.\n",
      "  inputs = processor(\n"
     ]
    },
    {
     "name": "stdout",
     "output_type": "stream",
     "text": [
      "returned keys: ['ids', 'embeddings', 'metadatas', 'documents', 'data', 'uris', 'included']\n"
     ]
    }
   ],
   "source": [
    "import chromadb\n",
    "from transformers import ClapModel, ClapProcessor\n",
    "import librosa\n",
    "import io\n",
    "import torch\n",
    "\n",
    "client = chromadb.HttpClient(host=\"localhost\", port=8000)\n",
    "paginator = minio_client.get_paginator('list_objects_v2')\n",
    "exploitation_zone = \"exploitation-zone\"\n",
    "trusted_zone = \"trusted-zone\"\n",
    "\n",
    "model_id = \"laion/clap-htsat-unfused\"\n",
    "model = ClapModel.from_pretrained(model_id)\n",
    "processor = ClapProcessor.from_pretrained(model_id)\n",
    "collection_name = \"exploitation_zone-audio\"\n",
    "TARGET_SAMPLE_RATE = 48000\n",
    "\n",
    "try:\n",
    "    client.delete_collection(name=collection_name)\n",
    "except Exception:\n",
    "    pass\n",
    "\n",
    "try:\n",
    "    collection = client.get_or_create_collection(name=collection_name)\n",
    "except Exception as e:\n",
    "    print(f\"Error accessing or creating collection: {e}\")\n",
    "    exit(1)\n",
    "\n",
    "for page in paginator.paginate(Bucket=trusted_zone, Prefix=\"audio/\"):\n",
    "    for obj in page.get(\"Contents\", []):\n",
    "        key = obj.get(\"Key\", \"\")\n",
    "        response = minio_client.get_object(Bucket=trusted_zone, Key=key)\n",
    "        audio_bytes = response['Body'].read()\n",
    "        audio_waveform, _ = librosa.load(\n",
    "            io.BytesIO(audio_bytes), \n",
    "            sr=TARGET_SAMPLE_RATE, \n",
    "            mono=True\n",
    "        )\n",
    "\n",
    "        inputs = processor(\n",
    "            audios=audio_waveform, \n",
    "            sampling_rate=TARGET_SAMPLE_RATE, \n",
    "            return_tensors=\"pt\"\n",
    "        )\n",
    "        with torch.no_grad():\n",
    "                audio_features = model.get_audio_features(**inputs)\n",
    "\n",
    "        embedding = audio_features[0].numpy().tolist()\n",
    "\n",
    "        collection.add(\n",
    "            embeddings=[embedding],\n",
    "            metadatas=[{\"source\": trusted_zone, \"audio_path\": key}],\n",
    "            ids=[key]\n",
    "        )\n",
    "\n",
    "        minio_client.copy_object(\n",
    "            Bucket=exploitation_zone,\n",
    "            CopySource={'Bucket': trusted_zone, 'Key': key},\n",
    "            Key=key\n",
    "        )\n",
    "\n",
    "\n",
    "result = collection.get()\n",
    "print(\"returned keys:\", list(result.keys()))"
   ]
  }
 ],
 "metadata": {
  "kernelspec": {
   "display_name": "venv",
   "language": "python",
   "name": "python3"
  },
  "language_info": {
   "codemirror_mode": {
    "name": "ipython",
    "version": 3
   },
   "file_extension": ".py",
   "mimetype": "text/x-python",
   "name": "python",
   "nbconvert_exporter": "python",
   "pygments_lexer": "ipython3",
   "version": "3.12.3"
  }
 },
 "nbformat": 4,
 "nbformat_minor": 5
}
