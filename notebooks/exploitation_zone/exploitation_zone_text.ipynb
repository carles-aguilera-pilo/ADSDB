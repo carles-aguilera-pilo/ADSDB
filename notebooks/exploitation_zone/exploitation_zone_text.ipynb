{
 "cells": [
  {
   "cell_type": "markdown",
   "id": "6fe7f3fe",
   "metadata": {},
   "source": [
    "# Exploitation Zone Text\n",
    "\n",
    "This notebook builds an audio embedding pipeline: it loads S3/MinIO credentials, connects to MinIO and a ChromaDB HTTP server, it instantiates a sentence-transfomers model (all-MiniLM-L6-v2) for text embeddings. It creates a chroma collection, it iterates over the text MinIO objects and extracts the embeddings for each object. This embeddings will be used in the last part of the project."
   ]
  },
  {
   "cell_type": "code",
   "execution_count": 2,
   "id": "1c797b77",
   "metadata": {},
   "outputs": [],
   "source": [
    "import boto3\n",
    "import os\n",
    "from dotenv import load_dotenv\n",
    "\n",
    "load_dotenv()\n",
    "access_key_id = os.getenv(\"ACCESS_KEY_ID\")\n",
    "secret_access_key = os.getenv(\"SECRET_ACCESS_KEY\")\n",
    "minio_url = \"http://\" + os.getenv(\"S3_API_ENDPOINT\")\n",
    "\n",
    "\n",
    "minio_client = boto3.client(\n",
    "    \"s3\",\n",
    "    aws_access_key_id=access_key_id,\n",
    "    aws_secret_access_key=secret_access_key,\n",
    "    endpoint_url=minio_url\n",
    ")\n",
    "\n",
    "new_bucket = \"exploitation-zone\"\n",
    "try:\n",
    "    minio_client.create_bucket(Bucket=new_bucket)\n",
    "except (minio_client.exceptions.BucketAlreadyExists, minio_client.exceptions.BucketAlreadyOwnedByYou):\n",
    "    print(f\"Bucket '{new_bucket}' already exists\")"
   ]
  },
  {
   "cell_type": "code",
   "execution_count": null,
   "id": "b9625d3f",
   "metadata": {},
   "outputs": [
    {
     "name": "stdout",
     "output_type": "stream",
     "text": [
      "returned keys: ['ids', 'embeddings', 'metadatas', 'documents', 'data', 'uris', 'included']\n"
     ]
    }
   ],
   "source": [
    "import chromadb\n",
    "from sentence_transformers import SentenceTransformer\n",
    "\n",
    "client = chromadb.HttpClient(host=\"localhost\", port=8000)\n",
    "model = SentenceTransformer('all-MiniLM-L6-v2')\n",
    "paginator = minio_client.get_paginator(\"list_objects_v2\")\n",
    "exploitation_zone = \"exploitation-zone\"\n",
    "trusted_zone = \"trusted-zone\"\n",
    "\n",
    "collection_name = \"exploitation-zone_text\"\n",
    "try:\n",
    "    collection = client.get_or_create_collection(name=collection_name)\n",
    "except Exception as e:\n",
    "    print(f\"Error accessing or creating collection: {e}\")\n",
    "    exit(1)\n",
    "\n",
    "for page in paginator.paginate(Bucket=trusted_zone, Prefix=\"text/\"):\n",
    "    for obj in page.get(\"Contents\", []):\n",
    "        key = obj.get(\"Key\", \"\")\n",
    "        response = minio_client.get_object(Bucket=trusted_zone, Key=key)\n",
    "        document_content = response['Body'].read().decode('utf-8')\n",
    "\n",
    "        embedding = model.encode([document_content])[0]\n",
    "\n",
    "        collection.add(\n",
    "            documents=[document_content],\n",
    "            embeddings=[embedding],\n",
    "            ids=[key]\n",
    "        )\n",
    "        minio_client.copy_object(\n",
    "            Bucket=exploitation_zone,\n",
    "            CopySource={'Bucket': trusted_zone, 'Key': key},\n",
    "            Key=key\n",
    "        )\n",
    "result = collection.get()\n",
    "print(\"returned keys:\", list(result.keys()))"
   ]
  },
  {
   "cell_type": "markdown",
   "id": "21165884",
   "metadata": {},
   "source": [
    "# Nearest Neighbour search on text\n",
    "\n",
    "This cell does the same modality search on text. We used a query string and we ask \"What are common symptoms of skin cancer?\", then we encode that text into an embedding with the SentenceTransformer used for indexing. Then we set to top_k=1 and we query the chroma collection of the k-nearest neighbours. In our case, since k=1, we only get the closest neighbour. Finally, it prints the data which is the closest to the one provided."
   ]
  },
  {
   "cell_type": "code",
   "execution_count": 26,
   "id": "97175497",
   "metadata": {},
   "outputs": [
    {
     "name": "stdout",
     "output_type": "stream",
     "text": [
      "\n",
      "--- Query Results ---\n",
      "Query: 'What are common symptoms of skin cancer?'\n",
      "Most similar document: Skin cancers are cancers that arise from the skin. They are due to the development of abnormal cells that have the ability to invade or spread to other parts of the body. It occurs when skin cells grow uncontrollably, forming malignant tumors. The primary cause of skin cancer is prolonged exposure to ultraviolet (UV) radiation from the sun or tanning devices. Skin cancer is the most commonly diagnosed form of cancer in humans. There are three main types of skin cancers: basal-cell skin cancer (BCC), squamous-cell skin cancer (SCC) and melanoma. The first two, along with a number of less common skin cancers, are known as nonmelanoma skin cancer (NMSC). Basal-cell cancer grows slowly and can damage the tissue around it but is unlikely to spread to distant areas or result in death. It often appears as a painless raised area of skin that may be shiny with small blood vessels running over it or may present as a raised area with an ulcer. Squamous-cell skin cancer is more likely to spread. It usually presents as a hard lump with a scaly top but may also form an ulcer. Melanomas are the most aggressive. Signs include a mole that has changed in size, shape, color, has irregular edges, has more than one color, is itchy or bleeds. More than 90% of cases are caused by exposure to ultraviolet radiation from the Sun. This exposure increases the risk of all three main types of skin cancer. Such exposure has increased since the beginning of the industrial revolution, partly due to ozone depletion. Tanning beds are another common source of ultraviolet radiation. For melanomas and basal-cell cancers, exposure during childhood is particularly harmful. For squamous-cell skin cancers, total exposure, irrespective of when it occurs, is more important. Between 20% and 30% of melanomas develop from moles. People with lighter skin are at higher risk as are those with poor immune function such as from medications or HIV/AIDS. Diagnosis is by biopsy. Decreasing exposure to ultraviolet radiation and the use of sunscreen appear to be effective methods of preventing melanoma and squamous-cell skin cancer. It is not clear if sunscreen affects the risk of basal-cell cancer. Nonmelanoma skin cancer is usually curable. Treatment is generally by surgical removal but may, less commonly, involve radiation therapy or topical medications such as fluorouracil. Treatment of melanoma may involve some combination of surgery, chemotherapy, radiation therapy and targeted therapy. In those people whose disease has spread to other areas of the body, palliative care may be used to improve quality of life. Melanoma has one of the higher survival rates among cancers, with over 86% of people in the UK and more than 90% in the United States surviving more than 5 years. Skin cancer is the most common form of cancer, globally accounting for at least 40% of cancer cases. The most common type is nonmelanoma skin cancer, which occurs in at least 23 million people per year. This is a rough estimate; good statistics are not kept. Of nonmelanoma skin cancers, about 80% are basal-cell cancers and 20% squamous-cell skin cancers. Basal-cell and squamous-cell skin cancers rarely result in death. In the United States, they were the cause of less than 0. 1% of all cancer deaths. Globally in 2012, melanoma occurred in 232,000 people and resulted in 55,000 deaths. White people in Australia, New Zealand and South Africa have the highest rates of melanoma in the world. The three main types of skin cancer have become more common since late 20th century, especially in regions where the population is predominantly white. There are three main types of skin cancer: basal-cell skin cancer (basal-cell carcinoma) (BCC), squamous-cell skin cancer (squamous-cell carcinoma) (SCC) and malignant melanoma. Basal-cell carcinomas are most commonly present on sun-exposed areas of the skin, especially the face. They rarely metastasize and rarely cause death. They are easily treated with surgery or radiation. Squamous-cell skin cancers are also common, but much less common than basal-cell cancers. They metastasize more frequently than BCCs. Even then, the metastasis rate is quite low, with the exception of SCC of the lip or ear, and in people who are immunosuppressed. Melanoma are the least frequent of the three common skin cancers. They frequently metastasize, and can cause death once they spread. Less common skin cancers include: Merkel cell carcinoma, Paget's disease of the breast, atypical fibroxanthoma, porocarcinoma, spindle cell tumors, sebaceous carcinomas, microcystic adnexal carcinoma, keratoacanthoma, and skin sarcomas, such as angiosarcoma, dermatofibrosarcoma protuberans, Kaposi's sarcoma, leiomyosarcoma. BCC and SCC often carry a UV-signature mutation indicating that these cancers are caused by UVB radiation via direct DNA damage. However, malignant melanoma is predominantly caused by UVA radiation via indirect DNA damage. The indirect DNA damage is caused by free radicals and reactive oxygen species. Research indicates that the absorption of three sunscreen ingredients into the skin, combined with a 60-minute exposure to UV, leads to an increase of free radicals in the skin, if applied in too little quantity and too infrequently. However, the researchers add that newer creams often do not contain these specific compounds, and that the combination of other ingredients tends to retain the compounds on the surface of the skin. They also add that frequent re-application reduces the risk of radical formation. There are a variety of different skin cancer symptoms. These include changes in the skin that do not heal, ulcering in the skin, discolored skin, and changes in existing moles, such as jagged edges to the mole, enlargement of the mole, changes in color, the way it feels or if it bleeds. Other common signs of skin cancer can be painful lesion that itches or burns and large brownish spot with darker speckles. Basal-cell skin cancer (BCC) usually presents as a raised, smooth, pearly bump on the sun-exposed skin of the head, neck, torso or shoulders. Sometimes small blood vessels (called telangiectasia) can be seen within the tumor. Crusting and bleeding in the center of the tumor frequently develops. It is often mistaken for a sore that does not heal. This form of skin cancer is the least deadly, and with proper treatment can be eliminated, often without significant scarring. Squamous-cell skin cancer (SCC) is commonly a red, scaling, thickened patch on sun-exposed skin. Some are firm hard nodules and dome shaped like keratoacanthomas. Ulceration and bleeding may occur. When SCC is not treated, it may develop into a large mass. Squamous-cell is the second most common skin cancer. It is dangerous, but not nearly as dangerous as a melanoma. Most melanoma consist of various colours from shades of brown to black. A small number of melanoma are pink, red or fleshy in colour; these are called amelanotic melanoma and tend to be more aggressive. Warning signs of malignant melanoma include change in the size, shape, color or elevation of a mole. Other signs are the appearance of a new mole during adulthood or pain, itching, ulceration, redness around the site, or bleeding at the site. An often-used mnemonic is \"ABCDE\", where A is for \"asymmetrical\", B for \"borders\" (irregular: \"Coast of Maine sign\"), C for \"color\" (variegated), D for \"diameter\" (larger than 6 mm  the size of a pencil eraser) and E for \"evolving. \" Merkel cell carcinomas are most often rapidly growing, non-tender red, purple or skin colored bumps that are not painful or itchy. They may be mistaken for a cyst or another type of cancer. Ultraviolet radiation from sun exposure is the primary environmental cause of skin cancer. This can occur in professions such as farming. Other risk factors that play a role include: UV-irradiation of skin cells causes damage to DNA through photochemical reactions. Cyclobutane pyrimidine dimers formed by adjacent thymine bases, or by adjacent cytosine bases, are frequent types of DNA damage induced by UV. Human skin cells are capable of repairing most UV-induced damage by nucleotide excision repair, a process that protects against skin cancer, but may be inadequate at high levels of exposure. A malignant epithelial tumor that primarily originates in the epidermis, in squamous mucosa or in areas of squamous metaplasia is referred to as a squamous-cell carcinoma. Macroscopically, the tumor is often elevated, fungating, or may be ulcerated with irregular borders. Microscopically, tumor cells destroy the basement membrane and form sheets or compact masses which invade the subjacent connective tissue (dermis). In well differentiated carcinomas, tumor cells are pleomorphic/atypical, but resembling normal keratinocytes from prickle layer (large, polygonal, with abundant eosinophilic (pink) cytoplasm and central nucleus). Their disposal tends to be similar to that of normal epidermis: immature/basal cells at the periphery, becoming more mature to the centre of the tumor masses. Tumor cells transform into keratinized squamous cells and form round nodules with concentric, laminated layers, called \"cell nests\" or \"epithelial/keratinous pearls\". The surrounding stroma is reduced and contains inflammatory infiltrate (lymphocytes). Poorly differentiated squamous carcinomas contain more pleomorphic cells and no keratinization. A molecular factor involved in the disease process is mutation in gene PTCH1 that plays an important role in the Sonic hedgehog signaling pathway. Diagnosis is by biopsy and histopathological examination. Non-invasive skin cancer detection methods include photography, dermatoscopy, sonography, confocal microscopy, Raman spectroscopy, fluorescence spectroscopy, terahertz spectroscopy, optical coherence tomography, the multispectral imaging technique, thermography, electrical bio-impedance, tape stripping and computer-aided analysis. Dermatoscopy may be useful in diagnosing basal cell carcinoma in addition to skin inspection. There is insufficient evidence that optical coherence tomography (OCT) is useful in diagnosing melanoma or squamous cell carcinoma. OCT may have a role in diagnosing basal cell carcinoma but more data is needed to support this. Computer-assisted diagnosis devices have been developed that analyze images from a dermatoscope or spectroscopy and can be used by a diagnostician to aid in the detection of skin cancer. CAD systems have been found to be highly sensitive in the detection of melanoma, but have a high false-positive rate. There is not yet enough evidence to recommend CAD as compared to traditional diagnostic methods. High-frequency ultrasound (HFUS) is of unclear usefulness in the diagnosis of skin cancer. There is insufficient evidence for reflectance confocal microscopy to diagnose basal cell or squamous cell carcinoma or any other skin cancers. Sunscreen is effective and thus recommended to prevent melanoma and squamous-cell carcinoma. There is little evidence that it is effective in preventing basal-cell carcinoma. Other advice to reduce rates of skin cancer includes avoiding sunburn, wearing protective clothing, sunglasses and hats, and attempting to avoid sun exposure or periods of peak exposure. The U. S. Preventive Services Task Force recommends that people between 9 and 25 years of age be advised to avoid ultraviolet light. The risk of developing skin cancer can be reduced through a number of measures including decreasing indoor tanning and mid-day sun exposure, increasing the use of sunscreen, and avoiding the use of tobacco products. It is important to limit sun exposure and to avoid tanning beds, because they both involve UV light. UV light is known to damage skin cells by mutating their DNA. The mutated DNA can cause tumors and other growths to form on the skin. Further, there are other risk factors beside just UV exposure. Fair skin, prolonged history of sunburns, moles, and family history of skin cancer are just a few. There is insufficient evidence either for or against screening for skin cancers. Vitamin supplements and antioxidant supplements have not been found to have an effect in prevention. Evidence for reducing melanoma risk from dietary measures is tentative, with some supportive epidemiological evidence, but no clinical trials. Zinc oxide and titanium oxide are often used in sunscreen to provide broad protection from UVA and UVB ranges. Eating certain foods may decrease the risk of sunburns but this is much less than the protection provided by sunscreen. A meta-analysis of skin cancer prevention in high risk individuals found evidence that topical application of T4N5 liposome lotion reduced the rate of appearance of basal cell carcinomas in people with xeroderma pigmentosum, and that acitretin taken by mouth may have a skin protective benefit in people following kidney transplant. A paper published in January 2022 showed that a vaccine that stimulates the production of a protein critical to the skin's antioxidant network could reinforce people's defenses against skin cancer. Treatment is dependent on the specific type of cancer, location of the cancer, age of the person, and whether the cancer is primary or a recurrence. For a small basal-cell cancer in a young person, the treatment with the best cure rate (Mohs surgery or CCPDMA) might be indicated. In the case of an elderly frail man with multiple complicating medical problems, a difficult to excise basal-cell cancer of the nose might warrant radiation therapy (slightly lower cure rate) or no treatment at all. Topical chemotherapy might be indicated for large superficial basal-cell carcinoma for good cosmetic outcome, whereas it might be inadequate for invasive nodular basal-cell carcinoma or invasive squamous-cell carcinoma. [citation needed] In general, melanoma is poorly responsive to radiation or chemotherapy. For low-risk disease, radiation therapy (external beam radiotherapy or brachytherapy), topical chemotherapy (imiquimod or 5-fluorouracil) and cryotherapy (freezing the cancer off) can provide adequate control of the disease; all of them, however, may have lower overall cure rates than certain type of surgery. Other modalities of treatment such as photodynamic therapy, epidermal radioisotope therapy, topical chemotherapy, electrodesiccation and curettage can be found in the discussions of basal-cell carcinoma and squamous-cell carcinoma. Mohs' micrographic surgery (Mohs surgery) is a technique used to remove the cancer with the least amount of surrounding tissue and the edges are checked immediately to see if tumor is found. This provides the opportunity to remove the least amount of tissue and provide the best cosmetically favorable results. This is especially important for areas where excess skin is limited, such as the face. Cure rates are equivalent to wide excision. Special training is required to perform this technique. An alternative method is CCPDMA and can be performed by a pathologist not familiar with Mohs surgery. In the case of disease that has spread (metastasized), further surgical procedures or chemotherapy may be required. Treatments for metastatic melanoma include biologic immunotherapy agents ipilimumab, pembrolizumab, nivolumab, cemiplimab; BRAF inhibitors, such as vemurafenib and dabrafenib; and a MEK inhibitor trametinib. In February 2024, the Food and Drug Administration approved the first cancer treatment that uses tumor-infiltrating lymphocytes, also called TIL therapy, specifically for melanomas that have not improved with other treatments. Additionally, scientists are testing a vaccine designed to match the unique genetic details of a patient's cancer in an advanced clinical trial. Currently, surgical excision is the most common form of treatment for skin cancers. The goal of reconstructive surgery is the restoration of normal appearance and function. The choice of technique in reconstruction is dictated by the size and location of the defect. Excision and reconstruction of facial skin cancers are generally more challenging due to the presence of highly visible and functional anatomic structures in the face. When skin defects are small in size, most can be repaired with simple repair where skin edges are approximated and closed with sutures. This will result in a linear scar. If the repair is made along a natural skin fold or wrinkle line, the scar will be hardly visible. Larger defects may require repair with a skin graft, local skin flap, pedicled skin flap, or a microvascular free flap. Skin grafts and local skin flaps are by far more common than the other listed choices. Skin grafting is patching of a defect with skin that is removed from another site in the body. The skin graft is sutured to the edges of the defect, and a bolster dressing is placed atop the graft for seven to ten days, to immobilize the graft as it heals in place. There are two forms of skin grafting: split thickness and full thickness. In a split thickness skin graft, a shaver is used to shave a layer of skin from the abdomen or thigh. The donor site regenerates skin and heals over a period of two weeks. In a full thickness skin graft, a segment of skin is totally removed and the donor site needs to be sutured closed. Split thickness grafts can be used to repair larger defects, but the grafts are inferior in their cosmetic appearance. Full thickness skin grafts are more acceptable cosmetically. However, full thickness grafts can only be used for small or moderate sized defects. Local skin flaps are a method of closing defects with tissue that closely matches the defect in color and quality. Skin from the periphery of the defect site is mobilized and repositioned to fill the deficit. Various forms of local flaps can be designed to minimize disruption to surrounding tissues and maximize cosmetic outcome of the reconstruction. Pedicled skin flaps are a method of transferring skin with an intact blood supply from a nearby region of the body. An example of such reconstruction is a pedicled forehead flap for the repair of a large nasal skin defect. Once the flap develops a source of blood supply form its new bed, the vascular pedicle can be detached. The mortality rate of basal-cell and squamous-cell carcinoma is around 0. 3%, causing 2000 deaths per year in the US. In comparison, the mortality rate of melanoma is 1520% and it causes 6500 deaths per year. : 29, 31 Even though it is much less common, malignant melanoma is responsible for 75% of all skin cancer-related deaths. The survival rate for people with melanoma depends upon when they start treatment. The cure rate is very high when melanoma is detected in early stages, when it can easily be removed surgically. The prognosis is less favorable if the melanoma has spread to other parts of the body. As of 2003 the overall five-year cure rate with Mohs' micrographic surgery was around 95 percent for recurrent basal cell carcinoma. Australia and New Zealand exhibit one of the highest rates of skin cancer incidence in the world, almost four times the rates registered in the United States, the UK and Canada. Around 434,000 people receive treatment for non-melanoma skin cancers and 10,300 are treated for melanoma. Melanoma is the most common type of cancer in people between 15 and 44 years in both countries. The incidence of skin cancer has been increasing. The incidence of melanoma among Auckland residents of European descent in 1995 was 77. 7 cases per 100,000 people per year, and was predicted to increase in the 21st century because of \"the effect of local stratospheric ozone depletion and the time lag from sun exposure to melanoma development. \" Skin cancers result in 80,000 deaths a year as of 2010, 49,000 of which are due to melanoma and 31,000 of which are due to non-melanoma skin cancers. This is up from 51,000 in 1990. More than 3. 5 million cases of skin cancer are diagnosed annually in the United States, which makes it the most common form of cancer in that country. One in five Americans will develop skin cancer at some point of their lives. The most common form of skin cancer is basal-cell carcinoma, followed by squamous cell carcinoma. Unlike for other cancers, there exists no basal and squamous cell skin cancers registry in the United States. In the US in 2008, 59,695 people were diagnosed with melanoma, and 8,623 people died from it. In Australia, more than 12,500 new cases of melanoma are reported each year, out of which more than 1,500 die from the disease. Australia has the highest per capita incidence of melanoma in the world. Although the rates of many cancers in the United States is falling, the incidence of melanoma keeps growing, with approximately 68,729 melanomas diagnosed in 2004 according to reports of the National Cancer Institute. Melanoma is the fifth most common cancer in the UK (around 13,300 people were diagnosed with melanoma in 2011), and the disease accounts for 1% all cancer deaths (around 2,100 people died in 2012). Approximately 2,000 people die from basal or squamous cell skin cancers (non-melanoma skin cancers) in the United States each year. The rate has dropped in recent years. Most of the deaths happen to people who are elderly and might not have seen a doctor until the cancer had spread; and people with immune system disorders. White people and people with light skin are prone to skin cancer.\n",
      "Distance: 0.6737333\n"
     ]
    }
   ],
   "source": [
    "query_text = \"What are common symptoms of skin cancer?\"\n",
    "query_emb = model.encode([query_text])[0]\n",
    "\n",
    "try:\n",
    "    query_emb = query_emb.tolist()\n",
    "except Exception:\n",
    "    query_emb = list(map(float, query_emb))\n",
    "\n",
    "top_k = 1\n",
    "results = collection.query(\n",
    "    query_embeddings=[query_emb],\n",
    "    n_results=top_k,\n",
    "    include=[\"documents\", \"distances\"]\n",
    ")\n",
    "\n",
    "print(\"\\n--- Query Results ---\")\n",
    "print(f\"Query: '{query_text}'\")\n",
    "print(f\"Most similar document: {results['documents'][0][0]}\")\n",
    "print(f\"Distance: {results['distances'][0][0]}\")"
   ]
  }
 ],
 "metadata": {
  "kernelspec": {
   "display_name": "venv",
   "language": "python",
   "name": "python3"
  },
  "language_info": {
   "codemirror_mode": {
    "name": "ipython",
    "version": 3
   },
   "file_extension": ".py",
   "mimetype": "text/x-python",
   "name": "python",
   "nbconvert_exporter": "python",
   "pygments_lexer": "ipython3",
   "version": "3.12.3"
  }
 },
 "nbformat": 4,
 "nbformat_minor": 5
}
