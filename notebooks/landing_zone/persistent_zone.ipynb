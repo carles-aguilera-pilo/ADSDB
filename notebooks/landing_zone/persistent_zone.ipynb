{
 "cells": [
  {
   "cell_type": "code",
   "execution_count": 2,
   "id": "5ac633e7",
   "metadata": {},
   "outputs": [],
   "source": [
    "import boto3\n",
    "\n",
    "access_key_id = \"minioadmin\"\n",
    "secret_access_key = \"minioadmin\"\n",
    "minio_url = \"http://localhost:9000\"\n",
    "\n",
    "minio_client = boto3.client(\n",
    "    \"s3\",\n",
    "    aws_access_key_id=access_key_id,\n",
    "    aws_secret_access_key=secret_access_key,\n",
    "    endpoint_url=minio_url\n",
    ")"
   ]
  },
  {
   "cell_type": "code",
   "execution_count": 3,
   "id": "44d88523",
   "metadata": {},
   "outputs": [
    {
     "name": "stdout",
     "output_type": "stream",
     "text": [
      "Bucket 'persistent-landing' ja existeix\n"
     ]
    }
   ],
   "source": [
    "bucket_new = \"persistent-landing\"\n",
    "\n",
    "try:\n",
    "    minio_client.head_bucket(Bucket=bucket_new)\n",
    "    print(f\"Bucket '{bucket_new}' ja existeix\")\n",
    "except:\n",
    "    minio_client.create_bucket(Bucket=bucket_new)"
   ]
  },
  {
   "cell_type": "code",
   "execution_count": 1,
   "id": "d4494ae0",
   "metadata": {},
   "outputs": [
    {
     "ename": "NameError",
     "evalue": "name 'minio_client' is not defined",
     "output_type": "error",
     "traceback": [
      "\u001b[31m---------------------------------------------------------------------------\u001b[39m",
      "\u001b[31mNameError\u001b[39m                                 Traceback (most recent call last)",
      "\u001b[36mCell\u001b[39m\u001b[36m \u001b[39m\u001b[32mIn[1]\u001b[39m\u001b[32m, line 5\u001b[39m\n\u001b[32m      2\u001b[39m \u001b[38;5;28;01mfrom\u001b[39;00m\u001b[38;5;250m \u001b[39m\u001b[34;01mtqdm\u001b[39;00m\u001b[38;5;250m \u001b[39m\u001b[38;5;28;01mimport\u001b[39;00m tqdm\n\u001b[32m      4\u001b[39m bucket_anterior = \u001b[33m\"\u001b[39m\u001b[33mlanding-zone\u001b[39m\u001b[33m\"\u001b[39m\n\u001b[32m----> \u001b[39m\u001b[32m5\u001b[39m paginator = \u001b[43mminio_client\u001b[49m.get_paginator(\u001b[33m\"\u001b[39m\u001b[33mlist_objects_v2\u001b[39m\u001b[33m\"\u001b[39m)\n\u001b[32m      7\u001b[39m \u001b[38;5;28;01mfor\u001b[39;00m page \u001b[38;5;129;01min\u001b[39;00m paginator.paginate(Bucket=bucket_anterior):\n\u001b[32m      8\u001b[39m     \u001b[38;5;28;01mfor\u001b[39;00m obj \u001b[38;5;129;01min\u001b[39;00m tqdm(page.get(\u001b[33m\"\u001b[39m\u001b[33mContents\u001b[39m\u001b[33m\"\u001b[39m, []), desc=\u001b[33m\"\u001b[39m\u001b[33mReorganitzant fitxers\u001b[39m\u001b[33m\"\u001b[39m):\n",
      "\u001b[31mNameError\u001b[39m: name 'minio_client' is not defined"
     ]
    }
   ],
   "source": [
    "import os\n",
    "from tqdm import tqdm\n",
    "\n",
    "bucket_anterior = \"landing-zone\"\n",
    "paginator = minio_client.get_paginator(\"list_objects_v2\")\n",
    "\n",
    "for page in paginator.paginate(Bucket=bucket_anterior):\n",
    "    for obj in tqdm(page.get(\"Contents\", []), desc=\"Reorganitzant fitxers\"):\n",
    "        key = obj[\"Key\"]\n",
    "\n",
    "        # Detectar tipus de fitxer\n",
    "        filename = key.strip().lower()  # 👈 neteja espais, minúscules\n",
    "\n",
    "        if filename.endswith(\".mp3\"):\n",
    "            new_key = f\"audios/{os.path.basename(key)}\"\n",
    "        elif filename.endswith((\".png\", \".jpg\", \".jpeg\")):\n",
    "            new_key = f\"imagenes/{os.path.basename(key)}\"\n",
    "        elif filename.endswith((\".csv\", \".parquet\")):\n",
    "            new_key = f\"tabular/{os.path.basename(key)}\"\n",
    "        elif filename.endswith((\".txt\", \".md\", \".json\")):\n",
    "            print(\"1\")\n",
    "            new_key = f\"textos/{os.path.basename(key)}\"\n",
    "        else:\n",
    "            new_key = f\"otros/{os.path.basename(key)}\"\n",
    "    \n",
    "        minio_client.copy_object(\n",
    "            Bucket = bucket_new,\n",
    "            CopySource={\"Bucket\": bucket_anterior, \"Key\": key},\n",
    "            Key = new_key\n",
    "        )"
   ]
  },
  {
   "cell_type": "code",
   "execution_count": null,
   "id": "8401f6af",
   "metadata": {},
   "outputs": [],
   "source": []
  }
 ],
 "metadata": {
  "kernelspec": {
   "display_name": "venv",
   "language": "python",
   "name": "python3"
  },
  "language_info": {
   "codemirror_mode": {
    "name": "ipython",
    "version": 3
   },
   "file_extension": ".py",
   "mimetype": "text/x-python",
   "name": "python",
   "nbconvert_exporter": "python",
   "pygments_lexer": "ipython3",
   "version": "3.12.3"
  }
 },
 "nbformat": 4,
 "nbformat_minor": 5
}
