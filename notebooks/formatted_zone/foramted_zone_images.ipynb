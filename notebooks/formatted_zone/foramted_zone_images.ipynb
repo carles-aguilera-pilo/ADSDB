{
 "cells": [
  {
   "cell_type": "code",
   "execution_count": 1,
   "id": "08975d3d",
   "metadata": {},
   "outputs": [],
   "source": [
    "import boto3\n",
    "import os"
   ]
  },
  {
   "cell_type": "code",
   "execution_count": 3,
   "id": "fe8e172e",
   "metadata": {},
   "outputs": [],
   "source": [
    "access_key_id = \"minioadmin\"\n",
    "secret_access_key = \"minioadmin\"\n",
    "minio_url = \"http://localhost:9000\"\n",
    "\n",
    "minio_client = boto3.client(\n",
    "    \"s3\",\n",
    "    aws_access_key_id=access_key_id,\n",
    "    aws_secret_access_key=secret_access_key,\n",
    "    endpoint_url=minio_url\n",
    ")"
   ]
  },
  {
   "cell_type": "code",
   "execution_count": 6,
   "id": "3da3f2ff",
   "metadata": {},
   "outputs": [
    {
     "name": "stderr",
     "output_type": "stream",
     "text": [
      "Processant imatges: 100%|██████████| 1000/1000 [00:36<00:00, 27.57it/s]\n",
      "Processant imatges: 100%|██████████| 1000/1000 [00:33<00:00, 29.57it/s]\n",
      "Processant imatges: 100%|██████████| 1000/1000 [00:37<00:00, 26.67it/s]\n",
      "Processant imatges: 100%|██████████| 1000/1000 [00:42<00:00, 23.39it/s]\n",
      "Processant imatges: 100%|██████████| 1000/1000 [00:39<00:00, 25.33it/s]\n",
      "Processant imatges: 100%|██████████| 1000/1000 [00:36<00:00, 27.09it/s]\n",
      "Processant imatges: 100%|██████████| 1000/1000 [00:39<00:00, 25.10it/s]\n",
      "Processant imatges: 100%|██████████| 1000/1000 [00:36<00:00, 27.36it/s]\n",
      "Processant imatges: 100%|██████████| 12/12 [00:00<00:00, 28.43it/s]\n"
     ]
    }
   ],
   "source": [
    "from PIL import Image\n",
    "import io\n",
    "from tqdm import tqdm\n",
    "\n",
    "bucket_origen = \"persistent-landing\"\n",
    "bucket_desti = \"formatted-zone\"\n",
    "prefix_origen = \"imagenes/\"\n",
    "mida_final = (600, 450)\n",
    "\n",
    "paginator = minio_client.get_paginator(\"list_objects_v2\")\n",
    "\n",
    "for page in paginator.paginate(Bucket=bucket_origen, Prefix=prefix_origen):\n",
    "    for obj in tqdm(page.get(\"Contents\", []), desc=\"Processant imatges\"):\n",
    "        key = obj[\"Key\"]\n",
    "        filename = key.split(\"/\")[-1]\n",
    "\n",
    "        if not filename.lower().endswith(\".png\"):\n",
    "            continue\n",
    "        #Llegir la imatge des del bucket\n",
    "        response = minio_client.get_object(Bucket=bucket_origen, Key=key)\n",
    "        image_data = response[\"Body\"].read()\n",
    "        #Obrir amb PIL per validar i redimensionar\n",
    "        try:\n",
    "            img = Image.open(io.BytesIO(image_data)).convert(\"RGB\")\n",
    "        except Exception as e:\n",
    "            print(f\"Error amb {filename}: {e}\")\n",
    "            continue\n",
    "\n",
    "        #Redimensionar a mida consistent\n",
    "        img = img.resize(mida_final)\n",
    "\n",
    "        #Desa a memòria i puja a formatted-zone\n",
    "        buffer = io.BytesIO()\n",
    "        img.save(buffer, format=\"PNG\")\n",
    "        buffer.seek(0)\n",
    "\n",
    "        new_key = f\"imagenes/{filename}\"\n",
    "        minio_client.put_object(\n",
    "            Bucket=bucket_desti,\n",
    "            Key=new_key,\n",
    "            Body=buffer\n",
    "        )"
   ]
  }
 ],
 "metadata": {
  "kernelspec": {
   "display_name": "Python 3",
   "language": "python",
   "name": "python3"
  },
  "language_info": {
   "codemirror_mode": {
    "name": "ipython",
    "version": 3
   },
   "file_extension": ".py",
   "mimetype": "text/x-python",
   "name": "python",
   "nbconvert_exporter": "python",
   "pygments_lexer": "ipython3",
   "version": "3.10.3"
  }
 },
 "nbformat": 4,
 "nbformat_minor": 5
}
