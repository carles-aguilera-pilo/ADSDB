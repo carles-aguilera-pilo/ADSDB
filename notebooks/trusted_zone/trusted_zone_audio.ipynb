{
 "cells": [
  {
   "cell_type": "markdown",
   "id": "6abaa518",
   "metadata": {},
   "source": [
    "# Formatted Zone (Audio)\n",
    "\n",
    "This notebook contains the scripts needed for the extraction of audio from the formatted zone, its processing and cleaning of the data and storage to the trusted Zone. The trusted zone is represented by another bucket and aims to replicate the same folder structure as the formatted zone. The difference is that the data has been processed and transform in order to clean and ensure a clean audios.\n",
    "\n",
    "This notebook focuses only on audio (the equivalent notebooks for the other types of data can be found in the same folder). Particularly, the following scripts are responsible of the following tasks:\n",
    "\n",
    "Extraction of audios from formatted zone. Treatment of the data, to ensure data quality.\n",
    "\n",
    "First, we will connect to MinIO and prepare the new bucket:"
   ]
  },
  {
   "cell_type": "code",
   "execution_count": 1,
   "id": "75103d9b",
   "metadata": {},
   "outputs": [
    {
     "name": "stdout",
     "output_type": "stream",
     "text": [
      "Bucket 'trusted-zone' already exists\n"
     ]
    }
   ],
   "source": [
    "import boto3\n",
    "import os\n",
    "from dotenv import load_dotenv\n",
    "\n",
    "load_dotenv()\n",
    "access_key_id = os.getenv(\"ACCESS_KEY_ID\")\n",
    "secret_access_key = os.getenv(\"SECRET_ACCESS_KEY\")\n",
    "minio_url = \"http://\" + os.getenv(\"S3_API_ENDPOINT\")\n",
    "\n",
    "\n",
    "minio_client = boto3.client(\n",
    "    \"s3\",\n",
    "    aws_access_key_id=access_key_id,\n",
    "    aws_secret_access_key=secret_access_key,\n",
    "    endpoint_url=minio_url\n",
    ")\n",
    "\n",
    "new_bucket = \"trusted-zone\"\n",
    "try:\n",
    "    minio_client.create_bucket(Bucket=new_bucket)\n",
    "except (minio_client.exceptions.BucketAlreadyExists, minio_client.exceptions.BucketAlreadyOwnedByYou):\n",
    "    print(f\"Bucket '{new_bucket}' already exists\")"
   ]
  },
  {
   "cell_type": "markdown",
   "id": "34a42c8a",
   "metadata": {},
   "source": [
    "This script is responsible for extracting audio files from the Formatted Zone, processing and cleaning them to ensure their quality, and finally storing them in the Trusted Zone. The process begins by reading all audio files from the formatted-zone bucket and then applying several treatments to enhance their quality.\n",
    "\n",
    "First, it normalizes the sampling rate to 44.1 kHz to ensure compatibility and consistent quality across all audio files. Then, it detects and removes long silences at the beginning and end of the files using a threshold of –50 decibels and a minimum duration of 500 milliseconds, which improves storage efficiency.\n",
    "\n",
    "Next, it equalizes the volume levels of all audio files to ensure consistency during playback and applies dynamic compression with a threshold of –20 decibels and a 4:1 ratio to balance dynamic levels and enhance clarity and presence.\n",
    "\n",
    "The process also includes quality filters: a high-pass filter at 80 Hz to remove low-frequency noise and a low-pass filter at 16 kHz to eliminate high-frequency noise. Finally, it increases the gain by 2 decibels to improve the presence of the audio and optimize it for playback.\n",
    "\n",
    "The final result is a set of processed audio files with 192 kbps optimized MP3 quality, completely clean, without unwanted noise or silences, while preserving the original folder structure when stored in the Trusted Zone."
   ]
  },
  {
   "cell_type": "code",
   "execution_count": 2,
   "id": "47d4ab8e",
   "metadata": {},
   "outputs": [
    {
     "name": "stderr",
     "output_type": "stream",
     "text": [
      "Processant àudios: 100%|██████████| 100/100 [01:44<00:00,  1.05s/it]\n"
     ]
    }
   ],
   "source": [
    "from pydub import AudioSegment\n",
    "from pydub.effects import normalize, compress_dynamic_range\n",
    "from pydub.silence import split_on_silence, detect_silence\n",
    "import io\n",
    "from tqdm import tqdm\n",
    "\n",
    "bucket_origen = \"formatted-zone\"\n",
    "bucket_desti = \"trusted-zone\"\n",
    "prefix_origen = \"audio/\"\n",
    "freq_final = 44100\n",
    "\n",
    "paginator = minio_client.get_paginator(\"list_objects_v2\")\n",
    "\n",
    "for page in paginator.paginate(Bucket=bucket_origen, Prefix=prefix_origen):\n",
    "    for obj in tqdm(page.get(\"Contents\", []), desc=\"Processant àudios\"):\n",
    "        key = obj[\"Key\"]\n",
    "        filename = key.split(\"/\")[-1]\n",
    "\n",
    "        #Llegir àudio original\n",
    "        response = minio_client.get_object(Bucket=bucket_origen, Key=key)\n",
    "        audio_data = response[\"Body\"].read()\n",
    "\n",
    "        #Obrir amb pydub\n",
    "        try:\n",
    "            audio = AudioSegment.from_file(io.BytesIO(audio_data), format=\"mp3\")\n",
    "        except Exception as e:\n",
    "            print(f\"Error amb {filename}: {e}\")\n",
    "            continue\n",
    "\n",
    "        # APLICAR TRATAMIENTOS DE LIMPIEZA Y MEJORA\n",
    "        \n",
    "        # 1. Normalizar frecuencia de muestreo\n",
    "        audio = audio.set_frame_rate(freq_final)\n",
    "        \n",
    "        # 2. Limpiar silencios al inicio y final\n",
    "        # Detectar y eliminar silencios largos al principio y final\n",
    "        silence_threshold = -50  # dB\n",
    "        silence_duration = 500   # ms\n",
    "        \n",
    "        # Detectar silencios\n",
    "        silence_ranges = detect_silence(audio, min_silence_len=silence_duration, silence_thresh=silence_threshold)\n",
    "        \n",
    "        if silence_ranges:\n",
    "            # Eliminar silencio del final\n",
    "            if silence_ranges[-1][1] > len(audio) - 1000:  # Si el último silencio está cerca del final\n",
    "                audio = audio[:silence_ranges[-1][0]]\n",
    "            \n",
    "            # Eliminar silencio del inicio\n",
    "            if silence_ranges[0][0] < 1000:  # Si el primer silencio está cerca del inicio\n",
    "                audio = audio[silence_ranges[0][1]:]\n",
    "        \n",
    "        # 3. Normalizar volumen (uniformar niveles)\n",
    "        audio = normalize(audio)\n",
    "        \n",
    "        # 4. Compresión dinámica para equilibrar niveles\n",
    "        audio = compress_dynamic_range(audio, threshold=-20.0, ratio=4.0, attack=5.0, release=50.0)\n",
    "        \n",
    "        # 5. Filtro de ruido (reducir ruido de fondo)\n",
    "        # Aplicar un filtro pasa-altos muy suave para eliminar ruido de baja frecuencia\n",
    "        audio = audio.high_pass_filter(80)  # Hz\n",
    "        \n",
    "        # 6. Filtro de ruido (reducir ruido de alta frecuencia)\n",
    "        # Aplicar un filtro pasa-bajos para eliminar ruido de alta frecuencia\n",
    "        audio = audio.low_pass_filter(16000)  # Hz\n",
    "        \n",
    "        # 7. Normalización final del volumen\n",
    "        audio = normalize(audio)\n",
    "        \n",
    "        # 8. Ajustar ganancia final (opcional: +2dB para más presencia)\n",
    "        audio = audio + 2\n",
    "\n",
    "        # Desa com MP3 i puja al bucket formatted-zone\n",
    "        buffer = io.BytesIO()\n",
    "        audio.export(buffer, format=\"mp3\", bitrate=\"192k\")\n",
    "        buffer.seek(0)\n",
    "\n",
    "        new_key = f\"audio/{filename}\"\n",
    "        minio_client.put_object(\n",
    "            Bucket=bucket_desti,\n",
    "            Key=new_key,\n",
    "            Body=buffer\n",
    "        )"
   ]
  }
 ],
 "metadata": {
  "kernelspec": {
   "display_name": "Python 3",
   "language": "python",
   "name": "python3"
  },
  "language_info": {
   "codemirror_mode": {
    "name": "ipython",
    "version": 3
   },
   "file_extension": ".py",
   "mimetype": "text/x-python",
   "name": "python",
   "nbconvert_exporter": "python",
   "pygments_lexer": "ipython3",
   "version": "3.10.3"
  }
 },
 "nbformat": 4,
 "nbformat_minor": 5
}
