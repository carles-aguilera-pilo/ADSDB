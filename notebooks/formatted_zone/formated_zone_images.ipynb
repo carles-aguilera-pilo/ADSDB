{
 "cells": [
  {
   "cell_type": "markdown",
   "id": "29c5fd71",
   "metadata": {},
   "source": [
    "# Formatted Zone (Images)\n",
    "\n",
    "This notebook contains the scripts needed for the extraction of images from the persistent landing zone, its processing and storage to the formatted zone. The formatted zone is represented by another bucket and aims to replicate the same folder structure as the persistent landing zone. The difference is that the data format in the formatted zone has been homogenized, as one of the steps of our data pipeline. \n",
    "\n",
    "This notebook focuses only on images data (the equivalent notebooks for the other types of data can be found in the same folder). Particularly, the following scripts are responsible of the following tasks:\n",
    "1. Extraction of images from persistent landing zone.\n",
    "2. Homogenization of data. In this case, that will consist on ensuring that all images are converted to .png files.\n",
    "3. Formatted data storage into the formatted zone.\n",
    "4. If the data has been processed correctly, deletion from the persistent landing zone.\n",
    "\n",
    "## 1. Extraction of images from persistent landing zone\n",
    "\n",
    "First, we will connect to MinIO and prepare the new bucket with the image folder:"
   ]
  },
  {
   "cell_type": "code",
   "execution_count": null,
   "id": "08975d3d",
   "metadata": {},
   "outputs": [],
   "source": [
    "import boto3\n",
    "import os\n",
    "from dotenv import load_dotenv\n",
    "\n",
    "load_dotenv()\n",
    "access_key_id = os.getenv(\"ACCESS_KEY_ID\")\n",
    "secret_access_key = os.getenv(\"SECRET_ACCESS_KEY\")\n",
    "minio_url = \"http://\" + os.getenv(\"S3_API_ENDPOINT\")\n",
    "\n",
    "\n",
    "minio_client = boto3.client(\n",
    "    \"s3\",\n",
    "    aws_access_key_id=access_key_id,\n",
    "    aws_secret_access_key=secret_access_key,\n",
    "    endpoint_url=minio_url\n",
    ")\n",
    "\n",
    "new_bucket = \"formatted-zone\"\n",
    "try:\n",
    "    minio_client.create_bucket(Bucket=new_bucket)\n",
    "except (minio_client.exceptions.BucketAlreadyExists, minio_client.exceptions.BucketAlreadyOwnedByYou):\n",
    "    print(f\"Bucket '{new_bucket}' already exists\")"
   ]
  },
  {
   "cell_type": "code",
   "execution_count": null,
   "id": "fe8e172e",
   "metadata": {},
   "outputs": [],
   "source": [
    "\n",
    "name_bucket = \"dump\"\n",
    "try:\n",
    "    minio_client.head_bucket(Bucket=name_bucket)\n",
    "    print(f\"Bucket '{bucket}' ja existeix\")\n",
    "except:\n",
    "    minio_client.create_bucket(name_bucket)"
   ]
  },
  {
   "cell_type": "markdown",
   "id": "365061d5",
   "metadata": {},
   "source": [
    "Now, for each image in the persistent landing zone the following script will check if it is in png format. If that is not the case but its format is supported by our pipeline, it will convert it, store it in the formatted zone and ultimately delete it from its previous location. If the data format is not supported, the script will not know how to proceed, ignoring it. In that case, the data is left in the persistent landing zone. We, as designers, believe that the this is the best approach to dealing with this anomalies: Neither allowing them to continue the following phases of the pipeline nor be deleted, but keeping them until a decision is made.\n",
    "\n",
    "The supported image formats are .png, .jpg/.jpeg, .bmp, .tif/.tiff, .gif and .webp "
   ]
  },
  {
   "cell_type": "code",
   "execution_count": null,
   "id": "3da3f2ff",
   "metadata": {},
   "outputs": [
    {
     "name": "stderr",
     "output_type": "stream",
     "text": [
      "Processant imatges: 100%|██████████| 1000/1000 [00:36<00:00, 27.57it/s]\n",
      "Processant imatges: 100%|██████████| 1000/1000 [00:33<00:00, 29.57it/s]\n",
      "Processant imatges: 100%|██████████| 1000/1000 [00:37<00:00, 26.67it/s]\n",
      "Processant imatges: 100%|██████████| 1000/1000 [00:42<00:00, 23.39it/s]\n",
      "Processant imatges: 100%|██████████| 1000/1000 [00:39<00:00, 25.33it/s]\n",
      "Processant imatges: 100%|██████████| 1000/1000 [00:36<00:00, 27.09it/s]\n",
      "Processant imatges: 100%|██████████| 1000/1000 [00:39<00:00, 25.10it/s]\n",
      "Processant imatges: 100%|██████████| 1000/1000 [00:36<00:00, 27.36it/s]\n",
      "Processant imatges: 100%|██████████| 12/12 [00:00<00:00, 28.43it/s]\n"
     ]
    }
   ],
   "source": [
    "from PIL import Image\n",
    "import io\n",
    "from tqdm import tqdm\n",
    "\n",
    "bucket_origin = \"persistent-landing\"\n",
    "bucket_destination = \"formatted-zone\"\n",
    "path = \"imagenes/\"\n",
    "\n",
    "# Supported image formats\n",
    "formats = {'.png', '.jpg', '.jpeg', '.bmp', '.tiff', '.tif', '.gif', '.webp'}\n",
    "\n",
    "paginator = minio_client.get_paginator(\"list_objects_v2\")\n",
    "\n",
    "for page in paginator.paginate(Bucket=bucket_origen, Prefix=prefix_origen):\n",
    "    for obj in tqdm(page.get(\"Contents\", []), desc=\"Processant imatges\"):\n",
    "        key = obj[\"Key\"]\n",
    "        filename = key.split(\"/\")[-1]\n",
    "        \n",
    "        # Obtener la extensión del archivo\n",
    "        extension = os.path.splitext(filename)[1].lower()\n",
    "        \n",
    "        # Solo procesar archivos de imagen\n",
    "        if extension not in formatos_imagen:\n",
    "            # Guardar archivo no reconocido en dump\n",
    "            response = minio_client.get_object(Bucket=bucket_origen, Key=key)\n",
    "            file_data = response[\"Body\"].read()\n",
    "            \n",
    "            minio_client.put_object(\n",
    "                Bucket=name_bucket,\n",
    "                Key=key,\n",
    "                Body=file_data\n",
    "            )\n",
    "            continue\n",
    "            # Crear el nuevo nombre con extensión .png\n",
    "        nombre_sin_extension = os.path.splitext(filename)[0]\n",
    "        nuevo_filename = f\"{nombre_sin_extension}.png\"\n",
    "            \n",
    "            # Llegir la imatge des del bucket\n",
    "        response = minio_client.get_object(Bucket=bucket_origen, Key=key)\n",
    "        image_data = response[\"Body\"].read()\n",
    "            \n",
    "            # Obrir amb PIL per validar i redimensionar\n",
    "        try:\n",
    "            img = Image.open(io.BytesIO(image_data)).convert(\"RGB\")\n",
    "        except Exception as e:\n",
    "            print(f\"Error amb {filename}: {e}\")\n",
    "            continue\n",
    "            # Desa a memòria i puja a formatted-zone\n",
    "        \n",
    "        buffer = io.BytesIO()\n",
    "        img.save(buffer, format=\"PNG\")\n",
    "        buffer.seek(0)\n",
    "\n",
    "\n",
    "\n",
    "        new_key = f\"imagenes/{nuevo_filename}\"\n",
    "        minio_client.put_object(\n",
    "            Bucket=bucket_desti,\n",
    "            Key=new_key,\n",
    "            Body=buffer\n",
    "        )\n",
    "        minio_client.upload_fileobj(Fileobj=buffer, Bucket=bucket_destination, Key=new_key)"
   ]
  }
 ],
 "metadata": {
  "kernelspec": {
   "display_name": ".venv",
   "language": "python",
   "name": "python3"
  },
  "language_info": {
   "codemirror_mode": {
    "name": "ipython",
    "version": 3
   },
   "file_extension": ".py",
   "mimetype": "text/x-python",
   "name": "python",
   "nbconvert_exporter": "python",
   "pygments_lexer": "ipython3",
   "version": "3.12.3"
  }
 },
 "nbformat": 4,
 "nbformat_minor": 5
}
