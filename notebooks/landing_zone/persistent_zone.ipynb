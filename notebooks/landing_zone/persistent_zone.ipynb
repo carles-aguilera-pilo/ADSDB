{
 "cells": [
  {
   "cell_type": "code",
   "execution_count": 2,
   "id": "44d88523",
   "metadata": {},
   "outputs": [],
   "source": [
    "import boto3\n",
    "import os\n",
    "from dotenv import load_dotenv\n",
    "\n",
    "load_dotenv()\n",
    "access_key_id = os.getenv(\"ACCESS_KEY_ID\")\n",
    "secret_access_key = os.getenv(\"SECRET_ACCESS_KEY\")\n",
    "minio_url = \"http://\" + os.getenv(\"S3_API_ENDPOINT\")\n",
    "\n",
    "\n",
    "minio_client = boto3.client(\n",
    "    \"s3\",\n",
    "    aws_access_key_id=access_key_id,\n",
    "    aws_secret_access_key=secret_access_key,\n",
    "    endpoint_url=minio_url\n",
    ")\n",
    "\n",
    "new_bucket = \"persistent-landing\"\n",
    "try:\n",
    "    minio_client.create_bucket(Bucket=new_bucket)\n",
    "except (minio_client.exceptions.BucketAlreadyExists, minio_client.exceptions.BucketAlreadyOwnedByYou):\n",
    "    print(f\"Bucket '{new_bucket}' already exists\")"
   ]
  },
  {
   "cell_type": "code",
   "execution_count": 5,
   "id": "d4494ae0",
   "metadata": {},
   "outputs": [
    {
     "name": "stdout",
     "output_type": "stream",
     "text": [
      "File types discovered: {'.wav', '.jpg', '.txt'}\n",
      "Files have been organized in the persistent landing bucket.\n",
      "Temporary landing files have been removed.\n"
     ]
    }
   ],
   "source": [
    "import os\n",
    "from tqdm import tqdm\n",
    "\n",
    "landing_zone = \"landing-zone\"\n",
    "persistent_landing = \"persistent-landing\"\n",
    "paginator = minio_client.get_paginator(\"list_objects_v2\")\n",
    "\n",
    "file_extensions = set()\n",
    "\n",
    "for page in paginator.paginate(Bucket=landing_zone):\n",
    "    for obj in page.get(\"Contents\", []):\n",
    "        key = obj.get(\"Key\", \"\")\n",
    "        if \".\" in key:\n",
    "            extension = os.path.splitext(key)[1].lower()\n",
    "            if extension:\n",
    "                file_extensions.add(extension)\n",
    "\n",
    "print(f\"File types discovered: {file_extensions}\")\n",
    "\n",
    "# Map file extensions to folder names\n",
    "folder_map = {\n",
    "    \".mp3\": \"audio\",\n",
    "    \".wav\": \"audio\",\n",
    "    \".ogg\": \"audio\",\n",
    "    \".png\": \"images\",\n",
    "    \".jpg\": \"images\",\n",
    "    \".jpeg\": \"images\",\n",
    "    \".csv\": \"tabular\",\n",
    "    \".parquet\": \"tabular\",\n",
    "    \".txt\": \"text\",\n",
    "    \".md\": \"text\",\n",
    "    \".json\": \"text\",\n",
    "}\n",
    "\n",
    "for page in paginator.paginate(Bucket=landing_zone):\n",
    "    for obj in page.get(\"Contents\", []):\n",
    "        key = obj.get(\"Key\", \"\")\n",
    "\n",
    "        file_ext = os.path.splitext(key)[1].lower()\n",
    "        dest_folder = folder_map.get(file_ext, file_ext.strip(\".\"))\n",
    "        if not dest_folder:\n",
    "            dest_folder = \"others\"\n",
    "        \n",
    "        new_key = f\"{dest_folder}/{os.path.basename(key)}\"\n",
    "        copy_source = {\n",
    "            'Bucket': landing_zone,\n",
    "            'Key': key\n",
    "        }\n",
    "        \n",
    "        minio_client.copy_object(\n",
    "            CopySource=copy_source,\n",
    "            Bucket=persistent_landing,\n",
    "            Key=new_key\n",
    "        )\n",
    "\n",
    "print(\"Files have been organized in the persistent landing bucket.\")\n",
    "for page in paginator.paginate(Bucket=landing_zone):\n",
    "    for obj in page.get(\"Contents\", []):\n",
    "        key = obj.get(\"Key\", \"\")\n",
    "        minio_client.delete_object(Bucket=landing_zone, Key=key)\n",
    "print(\"Temporary landing files have been removed.\")"
   ]
  }
 ],
 "metadata": {
  "kernelspec": {
   "display_name": "venv",
   "language": "python",
   "name": "python3"
  },
  "language_info": {
   "codemirror_mode": {
    "name": "ipython",
    "version": 3
   },
   "file_extension": ".py",
   "mimetype": "text/x-python",
   "name": "python",
   "nbconvert_exporter": "python",
   "pygments_lexer": "ipython3",
   "version": "3.12.3"
  }
 },
 "nbformat": 4,
 "nbformat_minor": 5
}
