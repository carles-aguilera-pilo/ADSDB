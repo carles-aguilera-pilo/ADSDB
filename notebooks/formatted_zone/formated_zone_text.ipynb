{
 "cells": [
  {
   "cell_type": "code",
   "execution_count": 1,
   "id": "353465f1",
   "metadata": {},
   "outputs": [],
   "source": [
    "import boto3\n",
    "import os"
   ]
  },
  {
   "cell_type": "code",
   "execution_count": null,
   "id": "74b10f06",
   "metadata": {},
   "outputs": [],
   "source": [
    "access_key_id = \"minioadmin\"\n",
    "secret_access_key = \"minioadmin\"\n",
    "minio_url = \"http://localhost:9000\"\n",
    "\n",
    "minio_client = boto3.client(\n",
    "    \"s3\",\n",
    "    aws_access_key_id=access_key_id,\n",
    "    aws_secret_access_key=secret_access_key,\n",
    "    endpoint_url=minio_url\n",
    ")\n",
    "\n",
    "new_bucket = \"formatted-zone\"\n",
    "try:\n",
    "    minio_client.head_bucket(Bucket=new_bucket)\n",
    "except:\n",
    "    minio_client.create_bucket(Bucket=new_bucket)\n",
    "    \n",
    "    \n",
    "    \n",
    "name_bucket = \"dump\"\n",
    "try:\n",
    "    minio_client.head_bucket(Bucket=name_bucket)\n",
    "    print(f\"Bucket '{bucket}' ja existeix\")\n",
    "except:\n",
    "    minio_client.create_bucket(name_bucket)"
   ]
  },
  {
   "cell_type": "code",
   "execution_count": null,
   "id": "42299dde",
   "metadata": {},
   "outputs": [
    {
     "name": "stderr",
     "output_type": "stream",
     "text": [
      "Processant fitxers de text: 100%|██████████| 1/1 [00:00<00:00,  5.95it/s]\n"
     ]
    }
   ],
   "source": [
    "import io\n",
    "from tqdm import tqdm\n",
    "\n",
    "bucket_origen = \"persistent-landing\"\n",
    "bucket_desti = \"formatted-zone\"\n",
    "prefix_origen = \"textos/\"\n",
    "\n",
    "# Formatos de texto soportados\n",
    "formatos_texto = {'.txt', '.doc', '.docx', '.pdf', '.rtf', '.odt', '.md'}\n",
    "\n",
    "paginator = minio_client.get_paginator(\"list_objects_v2\")\n",
    "\n",
    "for page in paginator.paginate(Bucket=bucket_origen, Prefix=prefix_origen):\n",
    "    for obj in tqdm(page.get(\"Contents\", []), desc=\"Processant fitxers de text\"):\n",
    "        key = obj[\"Key\"]\n",
    "        filename = key.split(\"/\")[-1]\n",
    "        \n",
    "        # Obtener la extensión del archivo\n",
    "        extension = os.path.splitext(filename)[1].lower()\n",
    "        \n",
    "        # Solo procesar archivos de texto\n",
    "        if extension not in formatos_texto:\n",
    "            # Guardar archivo no reconocido en dump\n",
    "            response = minio_client.get_object(Bucket=bucket_origen, Key=key)\n",
    "            file_data = response[\"Body\"].read()\n",
    "            \n",
    "            minio_client.put_object(\n",
    "                Bucket=\"dump\",\n",
    "                Key=key,\n",
    "                Body=file_data\n",
    "            )\n",
    "            continue\n",
    "            \n",
    "        # Crear el nuevo nombre con extensión .txt\n",
    "        nombre_sin_extension = os.path.splitext(filename)[0]\n",
    "        nuevo_filename = f\"{nombre_sin_extension}.txt\"\n",
    "\n",
    "        # Llegir el contingut del fitxer original\n",
    "        response = minio_client.get_object(Bucket=bucket_origen, Key=key)\n",
    "        text = response[\"Body\"].read().decode(\"utf-8\", errors=\"ignore\")\n",
    "\n",
    "        # Convertir a bytes i pujar-lo al bucket formatted-zone\n",
    "        new_key = f\"textos/{nuevo_filename}\"\n",
    "\n",
    "        minio_client.put_object(\n",
    "            Bucket=bucket_desti,\n",
    "            Key=new_key,\n",
    "            Body=text.encode(\"utf-8\")\n",
    "        )"
   ]
  }
 ],
 "metadata": {
  "kernelspec": {
   "display_name": "Python 3",
   "language": "python",
   "name": "python3"
  },
  "language_info": {
   "codemirror_mode": {
    "name": "ipython",
    "version": 3
   },
   "file_extension": ".py",
   "mimetype": "text/x-python",
   "name": "python",
   "nbconvert_exporter": "python",
   "pygments_lexer": "ipython3",
   "version": "3.10.3"
  }
 },
 "nbformat": 4,
 "nbformat_minor": 5
}
