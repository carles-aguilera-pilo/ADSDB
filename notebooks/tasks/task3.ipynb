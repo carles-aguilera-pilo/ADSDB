{
 "cells": [
  {
   "cell_type": "markdown",
   "id": "b0e246d4",
   "metadata": {},
   "source": [
    "# Task 3 - Generative tasks with external models\n",
    "\n",
    "This notebook contains a prototype of a RAG system based on LLaVA model. This task will consist of enhancing users multimodal prompts by providing related information from our data pipeline. The related info will be added according to its similarity with the user request. The aim is to provide the model with better context to create the response."
   ]
  },
  {
   "cell_type": "code",
   "execution_count": 3,
   "id": "b08365cb",
   "metadata": {},
   "outputs": [],
   "source": [
    "# Get Prompt from user\n",
    "\n",
    "# Extract different types of data\n",
    "user_prompt_text = \"What is this cancer? Which is the diagnosis and how can it be treated?\"\n",
    "user_prompt_images = []\n",
    "user_prompt_audios = []\n",
    "\n",
    "# Retrieve similar results"
   ]
  },
  {
   "cell_type": "markdown",
   "id": "a298e4c0",
   "metadata": {},
   "source": [
    "## Using LLaVA local model\n",
    "Here we will try to use a LLaVA model deployed locally. Particularly, we will use llava-1.5 with 7b parameter.\n",
    "First, we need to load the model."
   ]
  },
  {
   "cell_type": "code",
   "execution_count": null,
   "id": "e4c83494",
   "metadata": {},
   "outputs": [
    {
     "data": {
      "application/vnd.jupyter.widget-view+json": {
       "model_id": "431e0d01fb504baeab7c8f2edca8823d",
       "version_major": 2,
       "version_minor": 0
      },
      "text/plain": [
       "model.safetensors.index.json: 0.00B [00:00, ?B/s]"
      ]
     },
     "metadata": {},
     "output_type": "display_data"
    },
    {
     "data": {
      "application/vnd.jupyter.widget-view+json": {
       "model_id": "0f9c83a5abf44bffa5fb4c641179280e",
       "version_major": 2,
       "version_minor": 0
      },
      "text/plain": [
       "Fetching 3 files:   0%|          | 0/3 [00:00<?, ?it/s]"
      ]
     },
     "metadata": {},
     "output_type": "display_data"
    },
    {
     "data": {
      "application/vnd.jupyter.widget-view+json": {
       "model_id": "71b0c90c80634249a8b5d7c44aaa1172",
       "version_major": 2,
       "version_minor": 0
      },
      "text/plain": [
       "model-00002-of-00003.safetensors:   0%|          | 0.00/4.96G [00:00<?, ?B/s]"
      ]
     },
     "metadata": {},
     "output_type": "display_data"
    },
    {
     "data": {
      "application/vnd.jupyter.widget-view+json": {
       "model_id": "0958d5cfe85c4f18866251188d1f9e35",
       "version_major": 2,
       "version_minor": 0
      },
      "text/plain": [
       "model-00001-of-00003.safetensors:   0%|          | 0.00/4.99G [00:00<?, ?B/s]"
      ]
     },
     "metadata": {},
     "output_type": "display_data"
    },
    {
     "data": {
      "application/vnd.jupyter.widget-view+json": {
       "model_id": "2f1518f1c0194723940830405908bac9",
       "version_major": 2,
       "version_minor": 0
      },
      "text/plain": [
       "model-00003-of-00003.safetensors:   0%|          | 0.00/4.18G [00:00<?, ?B/s]"
      ]
     },
     "metadata": {},
     "output_type": "display_data"
    },
    {
     "data": {
      "application/vnd.jupyter.widget-view+json": {
       "model_id": "dc8b972f33b143198677e3312816e9fe",
       "version_major": 2,
       "version_minor": 0
      },
      "text/plain": [
       "Loading checkpoint shards:   0%|          | 0/3 [00:00<?, ?it/s]"
      ]
     },
     "metadata": {},
     "output_type": "display_data"
    },
    {
     "data": {
      "application/vnd.jupyter.widget-view+json": {
       "model_id": "024cd00658bf431b97f4eca936de82e8",
       "version_major": 2,
       "version_minor": 0
      },
      "text/plain": [
       "generation_config.json:   0%|          | 0.00/141 [00:00<?, ?B/s]"
      ]
     },
     "metadata": {},
     "output_type": "display_data"
    },
    {
     "name": "stderr",
     "output_type": "stream",
     "text": [
      "Some parameters are on the meta device because they were offloaded to the disk and cpu.\n"
     ]
    },
    {
     "data": {
      "application/vnd.jupyter.widget-view+json": {
       "model_id": "29327531b89a4394a907e09ff7b60c93",
       "version_major": 2,
       "version_minor": 0
      },
      "text/plain": [
       "processor_config.json:   0%|          | 0.00/173 [00:00<?, ?B/s]"
      ]
     },
     "metadata": {},
     "output_type": "display_data"
    },
    {
     "data": {
      "application/vnd.jupyter.widget-view+json": {
       "model_id": "2f1ca1eb44fc470faf241f25062d7c02",
       "version_major": 2,
       "version_minor": 0
      },
      "text/plain": [
       "chat_template.json:   0%|          | 0.00/701 [00:00<?, ?B/s]"
      ]
     },
     "metadata": {},
     "output_type": "display_data"
    },
    {
     "data": {
      "application/vnd.jupyter.widget-view+json": {
       "model_id": "b4276d9b50304b9da0d1e3074dbc88dc",
       "version_major": 2,
       "version_minor": 0
      },
      "text/plain": [
       "chat_template.jinja:   0%|          | 0.00/674 [00:00<?, ?B/s]"
      ]
     },
     "metadata": {},
     "output_type": "display_data"
    },
    {
     "data": {
      "application/vnd.jupyter.widget-view+json": {
       "model_id": "28dff0be0fa148cf937fb64b79620c45",
       "version_major": 2,
       "version_minor": 0
      },
      "text/plain": [
       "preprocessor_config.json:   0%|          | 0.00/505 [00:00<?, ?B/s]"
      ]
     },
     "metadata": {},
     "output_type": "display_data"
    },
    {
     "name": "stderr",
     "output_type": "stream",
     "text": [
      "Using a slow image processor as `use_fast` is unset and a slow processor was saved with this model. `use_fast=True` will be the default behavior in v4.52, even if the model was saved with a slow processor. This will result in minor differences in outputs. You'll still be able to use a slow processor with `use_fast=False`.\n"
     ]
    },
    {
     "data": {
      "application/vnd.jupyter.widget-view+json": {
       "model_id": "3bd54e301d804d6ca991a1f5ac2a02c2",
       "version_major": 2,
       "version_minor": 0
      },
      "text/plain": [
       "tokenizer_config.json: 0.00B [00:00, ?B/s]"
      ]
     },
     "metadata": {},
     "output_type": "display_data"
    },
    {
     "data": {
      "application/vnd.jupyter.widget-view+json": {
       "model_id": "ffda5d181f374401ab8d3f7b21892c1d",
       "version_major": 2,
       "version_minor": 0
      },
      "text/plain": [
       "tokenizer.model:   0%|          | 0.00/500k [00:00<?, ?B/s]"
      ]
     },
     "metadata": {},
     "output_type": "display_data"
    },
    {
     "data": {
      "application/vnd.jupyter.widget-view+json": {
       "model_id": "5c02c394d6b54f3794fa189bfd9f510f",
       "version_major": 2,
       "version_minor": 0
      },
      "text/plain": [
       "tokenizer.json: 0.00B [00:00, ?B/s]"
      ]
     },
     "metadata": {},
     "output_type": "display_data"
    },
    {
     "data": {
      "application/vnd.jupyter.widget-view+json": {
       "model_id": "f83b81c9e6024f3fae4090a2feb1cb1d",
       "version_major": 2,
       "version_minor": 0
      },
      "text/plain": [
       "added_tokens.json:   0%|          | 0.00/41.0 [00:00<?, ?B/s]"
      ]
     },
     "metadata": {},
     "output_type": "display_data"
    },
    {
     "data": {
      "application/vnd.jupyter.widget-view+json": {
       "model_id": "81e3af325a1b4767b8392e61666e8ffe",
       "version_major": 2,
       "version_minor": 0
      },
      "text/plain": [
       "special_tokens_map.json:   0%|          | 0.00/552 [00:00<?, ?B/s]"
      ]
     },
     "metadata": {},
     "output_type": "display_data"
    },
    {
     "data": {
      "text/plain": [
       "['USER:  \\nWhat is this cancer? Which is the diagnosis and how can it be treated? ASSISTANT: The image shows a skin lesion, which appears to be a cancerous growth or a skin tag. The diagnosis of this skin lesion would']"
      ]
     },
     "execution_count": 6,
     "metadata": {},
     "output_type": "execute_result"
    }
   ],
   "source": [
    "import base64\n",
    "import torch\n",
    "from PIL import Image\n",
    "from transformers import AutoProcessor, LlavaForConditionalGeneration, BitsAndBytesConfig\n",
    "\n",
    "# Load the model in half-precision\n",
    "model = LlavaForConditionalGeneration.from_pretrained(\"llava-hf/llava-1.5-7b-hf\", dtype=torch.float16, device_map=\"auto\")\n",
    "processor = AutoProcessor.from_pretrained(\"llava-hf/llava-1.5-7b-hf\")"
   ]
  },
  {
   "cell_type": "markdown",
   "id": "06a72fb4",
   "metadata": {},
   "source": [
    "Once we have loaded the model, we can send a query the following way. Here, we will ask a question about the diagnosis of an image:"
   ]
  },
  {
   "cell_type": "code",
   "execution_count": 9,
   "id": "8fd48341",
   "metadata": {},
   "outputs": [
    {
     "data": {
      "text/plain": [
       "['USER:  \\nWhat is this cancer? Which is the diagnosis and how can it be treated? ASSISTANT: The image shows a skin lesion, which appears to be a cancerous growth or a skin tag. The diagnosis of this skin lesion would be a form of skin cancer, such as squamous cell carcinoma or basal cell carcinoma. These skin cancers are typically treated with surgical excision, which involves removing the cancerous growth along with a small margin of healthy skin around it. In some cases, additional treatments like radiation therapy or topical medications may be necessary, depending on the size, location, and stage of the cancer. It is essential to consult a dermatologist or a skin cancer specialist for proper diagnosis and treatment.']"
      ]
     },
     "execution_count": 9,
     "metadata": {},
     "output_type": "execute_result"
    }
   ],
   "source": [
    "image = Image.open(\"test.jpg\").convert(\"RGB\")\n",
    "\n",
    "conversation = [\n",
    "    {\n",
    "        \"role\": \"user\",\n",
    "        \"content\": [\n",
    "            {\"type\": \"image\", \"image\": image},\n",
    "            {\"type\": \"text\", \"text\": user_prompt_text},\n",
    "        ],\n",
    "    },\n",
    "]\n",
    "\n",
    "inputs = processor.apply_chat_template(\n",
    "    conversation,\n",
    "    add_generation_prompt=True,\n",
    "    tokenize=True,\n",
    "    return_dict=True,\n",
    "    return_tensors=\"pt\"\n",
    ").to(model.device, torch.float16)\n",
    "\n",
    "# Generate\n",
    "generate_ids = model.generate(**inputs, max_new_tokens=256)\n",
    "processor.batch_decode(generate_ids, skip_special_tokens=True)"
   ]
  },
  {
   "cell_type": "markdown",
   "id": "5bb01f66",
   "metadata": {},
   "source": [
    "## Using Gemini API\n",
    "Using a local model requires high hardware specs (specially RAM and GPU) that are not matched by consumer-grade PCs, so it is very slow."
   ]
  },
  {
   "cell_type": "code",
   "execution_count": 4,
   "id": "46180858",
   "metadata": {},
   "outputs": [
    {
     "name": "stdout",
     "output_type": "stream",
     "text": [
      "Based on the image provided, which shows a red, scaly, and somewhat crusted patch with areas of erosion on the skin, this lesion is highly suspicious for a **non-melanoma skin cancer**.\n",
      "\n",
      "**Important Disclaimer:** I am an AI and cannot provide medical advice or a definitive diagnosis. A proper diagnosis can only be made by a qualified healthcare professional, such as a dermatologist, after a thorough examination and often a biopsy. The information below is for educational purposes only and should not be used to self-diagnose or self-treat.\n",
      "\n",
      "---\n",
      "\n",
      "### **Potential Diagnosis (Highly Suspicious):**\n",
      "\n",
      "Given the appearance, the most likely diagnoses include:\n",
      "\n",
      "1.  **Squamous Cell Carcinoma (SCC):**\n",
      "    *   **Description:** This is a very common type of skin cancer that can appear as a firm, red nodule, a scaly patch, or a sore that doesn't heal. It can sometimes be crusted, ulcerated, or bleed easily. It often arises in sun-exposed areas and can develop from a precursor lesion called an actinic keratosis. The image shows features very consistent with SCC, particularly an invasive or superficially invasive form, with its erythema, scaling, and central crusting/erosion.\n",
      "\n",
      "2.  **Superficial Basal Cell Carcinoma (BCC):**\n",
      "    *   **Description:** While classic BCC often presents as a pearly nodule with rolled borders and visible blood vessels (telangiectasias), superficial BCC can appear as a red, scaly, flat patch, often mistaken for eczema or psoriasis. It can also have areas of erosion or crusting.\n",
      "\n",
      "3.  **Actinic Keratosis (AK) with malignant transformation:**\n",
      "    *   **Description:** Actinic keratoses are rough, scaly patches that are considered pre-cancers. They are caused by chronic sun exposure and can sometimes progress to invasive squamous cell carcinoma. The lesion in the image appears more advanced than a typical early AK, suggesting it might be an AK that has already transformed into SCC *in situ* or invasive SCC.\n",
      "\n",
      "Less likely, but also in the differential for a red, scaly lesion:\n",
      "*   **Inflammatory conditions:** Such as eczema or psoriasis, though the focal crusting and erosion are more concerning for malignancy.\n",
      "*   **Amelanotic Melanoma:** While less common, some melanomas lack pigment and can appear as red, irregular lesions. However, the primary features here lean more towards SCC or BCC.\n",
      "\n",
      "### **How is the diagnosis made?**\n",
      "\n",
      "The definitive diagnosis of skin cancer always requires:\n",
      "\n",
      "1.  **Clinical Examination:** A dermatologist will thoroughly examine the lesion, often using a dermatoscope (a specialized magnifying tool).\n",
      "2.  **Biopsy:** A small tissue sample of the lesion is removed and sent to a pathologist who examines it under a microscope to determine if cancer cells are present and, if so, what type of cancer it is and how deeply it has invaded.\n",
      "\n",
      "### **How can it be treated?**\n",
      "\n",
      "Treatment depends heavily on the specific type of cancer, its size, location, depth, and the patient's overall health. For SCC and BCC, common treatment options include:\n",
      "\n",
      "1.  **Surgical Excision:** The most common treatment involves surgically cutting out the cancerous tissue along with a margin of healthy skin. This can include:\n",
      "    *   **Standard Excisional Surgery:** The lesion is cut out, and the wound is stitched closed.\n",
      "    *   **Mohs Micrographic Surgery:** A specialized technique where the cancer is removed layer by layer, with each layer examined under a microscope immediately to ensure all cancer cells are removed while preserving as much healthy tissue as possible. This is often used for cancers on the face, hands, or those that are large, recurrent, or have aggressive features.\n",
      "\n",
      "2.  **Curettage and Electrodessication (ED&C):** The cancer is scraped off with a curette, and the base is then burned with an electric needle to destroy remaining cancer cells. This is typically used for smaller, superficial BCCs and SCCs.\n",
      "\n",
      "3.  **Radiation Therapy:** X-ray beams are used to destroy cancer cells. This is an option for certain cancers, especially for patients who are not surgical candidates, or for tumors in difficult-to-treat locations.\n",
      "\n",
      "4.  **Topical Medications:** For very superficial or early lesions (especially superficial BCC or extensive AK), topical creams like 5-fluorouracil (5-FU) or imiquimod can be applied to the skin to kill cancer cells.\n",
      "\n",
      "5.  **Photodynamic Therapy (PDT):** A light-sensitizing drug is applied to the skin, which is then activated by a special light source to destroy cancer cells. Also used for superficial lesions or AKs.\n",
      "\n",
      "6.  **Cryosurgery:** Liquid nitrogen is used to freeze and destroy superficial cancer cells.\n",
      "\n",
      "For advanced or metastatic cases (rare for BCC, more common for aggressive SCC), systemic therapies like targeted drugs or immunotherapy might be considered.\n",
      "\n",
      "**Given the appearance in the image, prompt evaluation by a dermatologist is strongly recommended to get an accurate diagnosis and appropriate treatment plan.**\n"
     ]
    }
   ],
   "source": [
    "from dotenv import load_dotenv\n",
    "from google import genai\n",
    "from google.genai import types\n",
    "\n",
    "load_dotenv()\n",
    "\n",
    "client = genai.Client()\n",
    "\n",
    "# Upload the first image\n",
    "image_path = \"test.jpg\"\n",
    "uploaded_file = client.files.upload(file=image_path)\n",
    "\n",
    "## Prepare the second image as inline data\n",
    "#image2_path = \"path/to/image2.png\"\n",
    "#with open(image2_path, 'rb') as f:\n",
    "#    img2_bytes = f.read()\n",
    "\n",
    "# Create the prompt with text and multiple images\n",
    "response = client.models.generate_content(\n",
    "    model=\"gemini-2.5-flash\",\n",
    "    contents=[\n",
    "        user_prompt_text,\n",
    "        uploaded_file  # Use the uploaded file reference\n",
    "        #types.Part.from_bytes(\n",
    "        #    data=img2_bytes,\n",
    "        #    mime_type='image/png'\n",
    "        #)\n",
    "    ]\n",
    ")\n",
    "\n",
    "print(response.text)\n"
   ]
  }
 ],
 "metadata": {
  "kernelspec": {
   "display_name": ".venv",
   "language": "python",
   "name": "python3"
  },
  "language_info": {
   "codemirror_mode": {
    "name": "ipython",
    "version": 3
   },
   "file_extension": ".py",
   "mimetype": "text/x-python",
   "name": "python",
   "nbconvert_exporter": "python",
   "pygments_lexer": "ipython3",
   "version": "3.12.3"
  }
 },
 "nbformat": 4,
 "nbformat_minor": 5
}
