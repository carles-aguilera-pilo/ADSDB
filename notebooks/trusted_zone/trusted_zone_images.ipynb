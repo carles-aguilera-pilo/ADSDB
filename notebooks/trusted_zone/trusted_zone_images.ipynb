{
 "cells": [
  {
   "cell_type": "code",
   "execution_count": 1,
   "id": "08975d3d",
   "metadata": {},
   "outputs": [
    {
     "name": "stdout",
     "output_type": "stream",
     "text": [
      "Bucket 'trusted-zone' already exists\n"
     ]
    }
   ],
   "source": [
    "import boto3\n",
    "import os\n",
    "from dotenv import load_dotenv\n",
    "\n",
    "load_dotenv()\n",
    "access_key_id = os.getenv(\"ACCESS_KEY_ID\")\n",
    "secret_access_key = os.getenv(\"SECRET_ACCESS_KEY\")\n",
    "minio_url = \"http://\" + os.getenv(\"S3_API_ENDPOINT\")\n",
    "\n",
    "\n",
    "minio_client = boto3.client(\n",
    "    \"s3\",\n",
    "    aws_access_key_id=access_key_id,\n",
    "    aws_secret_access_key=secret_access_key,\n",
    "    endpoint_url=minio_url\n",
    ")\n",
    "\n",
    "new_bucket = \"trusted-zone\"\n",
    "try:\n",
    "    minio_client.create_bucket(Bucket=new_bucket)\n",
    "except (minio_client.exceptions.BucketAlreadyExists, minio_client.exceptions.BucketAlreadyOwnedByYou):\n",
    "    print(f\"Bucket '{new_bucket}' already exists\")"
   ]
  },
  {
   "cell_type": "code",
   "execution_count": 2,
   "id": "3da3f2ff",
   "metadata": {},
   "outputs": [
    {
     "name": "stderr",
     "output_type": "stream",
     "text": [
      "Processant imatges: 100%|██████████| 100/100 [00:19<00:00,  5.15it/s]\n"
     ]
    }
   ],
   "source": [
    "from PIL import Image, ImageEnhance, ImageFilter\n",
    "import io\n",
    "from tqdm import tqdm\n",
    "\n",
    "bucket_origen = \"persistent-landing\"\n",
    "bucket_desti = \"formatted-zone\"\n",
    "prefix_origen = \"images/\"\n",
    "mida_final = (600, 450)\n",
    "\n",
    "paginator = minio_client.get_paginator(\"list_objects_v2\")\n",
    "\n",
    "for page in paginator.paginate(Bucket=bucket_origen, Prefix=prefix_origen):\n",
    "    for obj in tqdm(page.get(\"Contents\", []), desc=\"Processant imatges\"):\n",
    "        key = obj[\"Key\"]\n",
    "        filename = key.split(\"/\")[-1]\n",
    "\n",
    "        #Llegir la imatge des del bucket\n",
    "        response = minio_client.get_object(Bucket=bucket_origen, Key=key)\n",
    "        image_data = response[\"Body\"].read()\n",
    "        #Obrir amb PIL per validar i redimensionar\n",
    "        try:\n",
    "            img = Image.open(io.BytesIO(image_data)).convert(\"RGB\")\n",
    "        except Exception as e:\n",
    "            print(f\"Error amb {filename}: {e}\")\n",
    "            continue\n",
    "\n",
    "        #Redimensionar a mida consistent\n",
    "        img = img.resize(mida_final)\n",
    "        \n",
    "        # APLICAR TRATAMIENTOS DE MEJORA\n",
    "        \n",
    "        # 1. Normalización de colores (ajustar brillo y contraste)\n",
    "        # Ajustar brillo (ligeramente más brillante)\n",
    "        brightness_enhancer = ImageEnhance.Brightness(img)\n",
    "        img = brightness_enhancer.enhance(1.1)  # +10% brillo\n",
    "        \n",
    "        # Ajustar contraste (mejorar contraste)\n",
    "        contrast_enhancer = ImageEnhance.Contrast(img)\n",
    "        img = contrast_enhancer.enhance(1.15)  # +15% contraste\n",
    "        \n",
    "        # Ajustar saturación (colores más vivos)\n",
    "        color_enhancer = ImageEnhance.Color(img)\n",
    "        img = color_enhancer.enhance(1.05)  # +5% saturación\n",
    "        \n",
    "        # 2. Suavizado para reducir ruido\n",
    "        img = img.filter(ImageFilter.GaussianBlur(radius=0.3))  # Suavizado ligero\n",
    "        \n",
    "        # 3. Aplicar filtro de nitidez para compensar el suavizado\n",
    "        img = img.filter(ImageFilter.SHARPEN)\n",
    "\n",
    "        #Desa a memòria i puja a trusted-zone\n",
    "        buffer = io.BytesIO()\n",
    "        img.save(buffer, format=\"PNG\", optimize=True)\n",
    "        buffer.seek(0)\n",
    "\n",
    "        new_key = f\"images/{filename}\"\n",
    "        minio_client.put_object(\n",
    "            Bucket=bucket_desti,\n",
    "            Key=new_key,\n",
    "            Body=buffer\n",
    "        )"
   ]
  }
 ],
 "metadata": {
  "kernelspec": {
   "display_name": "venv",
   "language": "python",
   "name": "python3"
  },
  "language_info": {
   "codemirror_mode": {
    "name": "ipython",
    "version": 3
   },
   "file_extension": ".py",
   "mimetype": "text/x-python",
   "name": "python",
   "nbconvert_exporter": "python",
   "pygments_lexer": "ipython3",
   "version": "3.12.3"
  }
 },
 "nbformat": 4,
 "nbformat_minor": 5
}
