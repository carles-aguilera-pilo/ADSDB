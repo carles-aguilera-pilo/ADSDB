{
 "cells": [
  {
   "cell_type": "code",
   "execution_count": 1,
   "id": "75103d9b",
   "metadata": {},
   "outputs": [],
   "source": [
    "import boto3\n",
    "import os"
   ]
  },
  {
   "cell_type": "code",
   "execution_count": 2,
   "id": "4ed5f8ea",
   "metadata": {},
   "outputs": [],
   "source": [
    "access_key_id = \"minioadmin\"\n",
    "secret_access_key = \"minioadmin\"\n",
    "minio_url = \"http://localhost:9000\"\n",
    "\n",
    "minio_client = boto3.client(\n",
    "    \"s3\",\n",
    "    aws_access_key_id=access_key_id,\n",
    "    aws_secret_access_key=secret_access_key,\n",
    "    endpoint_url=minio_url\n",
    ")"
   ]
  },
  {
   "cell_type": "code",
   "execution_count": null,
   "id": "47d4ab8e",
   "metadata": {},
   "outputs": [],
   "source": [
    "from pydub import AudioSegment\n",
    "import io\n",
    "from tqdm import tqdm\n",
    "\n",
    "bucket_origen = \"persistent-landing\"\n",
    "bucket_desti = \"formatted-zone\"\n",
    "prefix_origen = \"audios/\"\n",
    "freq_final = 44100\n",
    "\n",
    "paginator = minio_client.get_paginator(\"list_objects_v2\")\n",
    "\n",
    "for page in paginator.paginate(Bucket=bucket_origen, Prefix=prefix_origen):\n",
    "    for obj in tqdm(page.get(\"Contents\", []), desc=\"Processant àudios\"):\n",
    "        key = obj[\"Key\"]\n",
    "        filename = key.split(\"/\")[-1]\n",
    "\n",
    "        if not filename.lower().endswith(\".mp3\"):\n",
    "            continue\n",
    "\n",
    "        #Llegir àudio original\n",
    "        response = minio_client.get_object(Bucket=bucket_origen, Key=key)\n",
    "        audio_data = response[\"Body\"].read()\n",
    "\n",
    "        #Obrir amb pydub\n",
    "        try:\n",
    "            audio = AudioSegment.from_file(io.BytesIO(audio_data), format=\"mp3\")\n",
    "        except Exception as e:\n",
    "            print(f\"⚠️ Error amb {filename}: {e}\")\n",
    "            continue\n",
    "\n",
    "        #Normalitzar freqüència i volum\n",
    "        audio = audio.set_frame_rate(freq_final)\n",
    "        audio = audio.normalize()  # opcional: volum uniforme\n",
    "\n",
    "        #Desa com MP3 i puja al bucket formatted-zone\n",
    "        buffer = io.BytesIO()\n",
    "        audio.export(buffer, format=\"mp3\")\n",
    "        buffer.seek(0)\n",
    "\n",
    "        new_key = f\"audios/{filename}\"\n",
    "        minio_client.put_object(\n",
    "            Bucket=bucket_desti,\n",
    "            Key=new_key,\n",
    "            Body=buffer\n",
    "        )"
   ]
  }
 ],
 "metadata": {
  "kernelspec": {
   "display_name": "Python 3",
   "language": "python",
   "name": "python3"
  },
  "language_info": {
   "codemirror_mode": {
    "name": "ipython",
    "version": 3
   },
   "file_extension": ".py",
   "mimetype": "text/x-python",
   "name": "python",
   "nbconvert_exporter": "python",
   "pygments_lexer": "ipython3",
   "version": "3.10.3"
  }
 },
 "nbformat": 4,
 "nbformat_minor": 5
}
